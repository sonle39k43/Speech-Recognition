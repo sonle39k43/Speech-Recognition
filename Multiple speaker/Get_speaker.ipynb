{
  "nbformat": 4,
  "nbformat_minor": 0,
  "metadata": {
    "colab": {
      "name": "Get_speaker.ipynb",
      "provenance": [],
      "collapsed_sections": []
    },
    "kernelspec": {
      "name": "python3",
      "display_name": "Python 3"
    },
    "language_info": {
      "name": "python"
    },
    "accelerator": "GPU",
    "gpuClass": "standard",
    "widgets": {
      "application/vnd.jupyter.widget-state+json": {
        "2c965f0afe484e80a7d6fe397f5d46bd": {
          "model_module": "@jupyter-widgets/controls",
          "model_name": "HBoxModel",
          "model_module_version": "1.5.0",
          "state": {
            "_dom_classes": [],
            "_model_module": "@jupyter-widgets/controls",
            "_model_module_version": "1.5.0",
            "_model_name": "HBoxModel",
            "_view_count": null,
            "_view_module": "@jupyter-widgets/controls",
            "_view_module_version": "1.5.0",
            "_view_name": "HBoxView",
            "box_style": "",
            "children": [
              "IPY_MODEL_1e0c739d5f294dc5a30e703d56f0b546",
              "IPY_MODEL_75ec6985ce6a407783f0e5598ed8f4ad",
              "IPY_MODEL_127ef46cb71f48948d6b5eeac7f2c981"
            ],
            "layout": "IPY_MODEL_3a5cd4e80e394c2681a0a7a267942327"
          }
        },
        "1e0c739d5f294dc5a30e703d56f0b546": {
          "model_module": "@jupyter-widgets/controls",
          "model_name": "HTMLModel",
          "model_module_version": "1.5.0",
          "state": {
            "_dom_classes": [],
            "_model_module": "@jupyter-widgets/controls",
            "_model_module_version": "1.5.0",
            "_model_name": "HTMLModel",
            "_view_count": null,
            "_view_module": "@jupyter-widgets/controls",
            "_view_module_version": "1.5.0",
            "_view_name": "HTMLView",
            "description": "",
            "description_tooltip": null,
            "layout": "IPY_MODEL_de4e354b5bfa4802b3234694a1972e9b",
            "placeholder": "​",
            "style": "IPY_MODEL_ca9b72d95d654d54a3c359f6266e86f6",
            "value": "Downloading: 100%"
          }
        },
        "75ec6985ce6a407783f0e5598ed8f4ad": {
          "model_module": "@jupyter-widgets/controls",
          "model_name": "FloatProgressModel",
          "model_module_version": "1.5.0",
          "state": {
            "_dom_classes": [],
            "_model_module": "@jupyter-widgets/controls",
            "_model_module_version": "1.5.0",
            "_model_name": "FloatProgressModel",
            "_view_count": null,
            "_view_module": "@jupyter-widgets/controls",
            "_view_module_version": "1.5.0",
            "_view_name": "ProgressView",
            "bar_style": "success",
            "description": "",
            "description_tooltip": null,
            "layout": "IPY_MODEL_66656a4a18524f22a0181ac6df6b438a",
            "max": 489,
            "min": 0,
            "orientation": "horizontal",
            "style": "IPY_MODEL_c912751d7d394ed989dc9441f35ca9bc",
            "value": 489
          }
        },
        "127ef46cb71f48948d6b5eeac7f2c981": {
          "model_module": "@jupyter-widgets/controls",
          "model_name": "HTMLModel",
          "model_module_version": "1.5.0",
          "state": {
            "_dom_classes": [],
            "_model_module": "@jupyter-widgets/controls",
            "_model_module_version": "1.5.0",
            "_model_name": "HTMLModel",
            "_view_count": null,
            "_view_module": "@jupyter-widgets/controls",
            "_view_module_version": "1.5.0",
            "_view_name": "HTMLView",
            "description": "",
            "description_tooltip": null,
            "layout": "IPY_MODEL_5507219f2340438f8ee35ea2f610002c",
            "placeholder": "​",
            "style": "IPY_MODEL_cc7439c2ea57434ebec4ac0d7023be14",
            "value": " 489/489 [00:00&lt;00:00, 13.5kB/s]"
          }
        },
        "3a5cd4e80e394c2681a0a7a267942327": {
          "model_module": "@jupyter-widgets/base",
          "model_name": "LayoutModel",
          "model_module_version": "1.2.0",
          "state": {
            "_model_module": "@jupyter-widgets/base",
            "_model_module_version": "1.2.0",
            "_model_name": "LayoutModel",
            "_view_count": null,
            "_view_module": "@jupyter-widgets/base",
            "_view_module_version": "1.2.0",
            "_view_name": "LayoutView",
            "align_content": null,
            "align_items": null,
            "align_self": null,
            "border": null,
            "bottom": null,
            "display": null,
            "flex": null,
            "flex_flow": null,
            "grid_area": null,
            "grid_auto_columns": null,
            "grid_auto_flow": null,
            "grid_auto_rows": null,
            "grid_column": null,
            "grid_gap": null,
            "grid_row": null,
            "grid_template_areas": null,
            "grid_template_columns": null,
            "grid_template_rows": null,
            "height": null,
            "justify_content": null,
            "justify_items": null,
            "left": null,
            "margin": null,
            "max_height": null,
            "max_width": null,
            "min_height": null,
            "min_width": null,
            "object_fit": null,
            "object_position": null,
            "order": null,
            "overflow": null,
            "overflow_x": null,
            "overflow_y": null,
            "padding": null,
            "right": null,
            "top": null,
            "visibility": null,
            "width": null
          }
        },
        "de4e354b5bfa4802b3234694a1972e9b": {
          "model_module": "@jupyter-widgets/base",
          "model_name": "LayoutModel",
          "model_module_version": "1.2.0",
          "state": {
            "_model_module": "@jupyter-widgets/base",
            "_model_module_version": "1.2.0",
            "_model_name": "LayoutModel",
            "_view_count": null,
            "_view_module": "@jupyter-widgets/base",
            "_view_module_version": "1.2.0",
            "_view_name": "LayoutView",
            "align_content": null,
            "align_items": null,
            "align_self": null,
            "border": null,
            "bottom": null,
            "display": null,
            "flex": null,
            "flex_flow": null,
            "grid_area": null,
            "grid_auto_columns": null,
            "grid_auto_flow": null,
            "grid_auto_rows": null,
            "grid_column": null,
            "grid_gap": null,
            "grid_row": null,
            "grid_template_areas": null,
            "grid_template_columns": null,
            "grid_template_rows": null,
            "height": null,
            "justify_content": null,
            "justify_items": null,
            "left": null,
            "margin": null,
            "max_height": null,
            "max_width": null,
            "min_height": null,
            "min_width": null,
            "object_fit": null,
            "object_position": null,
            "order": null,
            "overflow": null,
            "overflow_x": null,
            "overflow_y": null,
            "padding": null,
            "right": null,
            "top": null,
            "visibility": null,
            "width": null
          }
        },
        "ca9b72d95d654d54a3c359f6266e86f6": {
          "model_module": "@jupyter-widgets/controls",
          "model_name": "DescriptionStyleModel",
          "model_module_version": "1.5.0",
          "state": {
            "_model_module": "@jupyter-widgets/controls",
            "_model_module_version": "1.5.0",
            "_model_name": "DescriptionStyleModel",
            "_view_count": null,
            "_view_module": "@jupyter-widgets/base",
            "_view_module_version": "1.2.0",
            "_view_name": "StyleView",
            "description_width": ""
          }
        },
        "66656a4a18524f22a0181ac6df6b438a": {
          "model_module": "@jupyter-widgets/base",
          "model_name": "LayoutModel",
          "model_module_version": "1.2.0",
          "state": {
            "_model_module": "@jupyter-widgets/base",
            "_model_module_version": "1.2.0",
            "_model_name": "LayoutModel",
            "_view_count": null,
            "_view_module": "@jupyter-widgets/base",
            "_view_module_version": "1.2.0",
            "_view_name": "LayoutView",
            "align_content": null,
            "align_items": null,
            "align_self": null,
            "border": null,
            "bottom": null,
            "display": null,
            "flex": null,
            "flex_flow": null,
            "grid_area": null,
            "grid_auto_columns": null,
            "grid_auto_flow": null,
            "grid_auto_rows": null,
            "grid_column": null,
            "grid_gap": null,
            "grid_row": null,
            "grid_template_areas": null,
            "grid_template_columns": null,
            "grid_template_rows": null,
            "height": null,
            "justify_content": null,
            "justify_items": null,
            "left": null,
            "margin": null,
            "max_height": null,
            "max_width": null,
            "min_height": null,
            "min_width": null,
            "object_fit": null,
            "object_position": null,
            "order": null,
            "overflow": null,
            "overflow_x": null,
            "overflow_y": null,
            "padding": null,
            "right": null,
            "top": null,
            "visibility": null,
            "width": null
          }
        },
        "c912751d7d394ed989dc9441f35ca9bc": {
          "model_module": "@jupyter-widgets/controls",
          "model_name": "ProgressStyleModel",
          "model_module_version": "1.5.0",
          "state": {
            "_model_module": "@jupyter-widgets/controls",
            "_model_module_version": "1.5.0",
            "_model_name": "ProgressStyleModel",
            "_view_count": null,
            "_view_module": "@jupyter-widgets/base",
            "_view_module_version": "1.2.0",
            "_view_name": "StyleView",
            "bar_color": null,
            "description_width": ""
          }
        },
        "5507219f2340438f8ee35ea2f610002c": {
          "model_module": "@jupyter-widgets/base",
          "model_name": "LayoutModel",
          "model_module_version": "1.2.0",
          "state": {
            "_model_module": "@jupyter-widgets/base",
            "_model_module_version": "1.2.0",
            "_model_name": "LayoutModel",
            "_view_count": null,
            "_view_module": "@jupyter-widgets/base",
            "_view_module_version": "1.2.0",
            "_view_name": "LayoutView",
            "align_content": null,
            "align_items": null,
            "align_self": null,
            "border": null,
            "bottom": null,
            "display": null,
            "flex": null,
            "flex_flow": null,
            "grid_area": null,
            "grid_auto_columns": null,
            "grid_auto_flow": null,
            "grid_auto_rows": null,
            "grid_column": null,
            "grid_gap": null,
            "grid_row": null,
            "grid_template_areas": null,
            "grid_template_columns": null,
            "grid_template_rows": null,
            "height": null,
            "justify_content": null,
            "justify_items": null,
            "left": null,
            "margin": null,
            "max_height": null,
            "max_width": null,
            "min_height": null,
            "min_width": null,
            "object_fit": null,
            "object_position": null,
            "order": null,
            "overflow": null,
            "overflow_x": null,
            "overflow_y": null,
            "padding": null,
            "right": null,
            "top": null,
            "visibility": null,
            "width": null
          }
        },
        "cc7439c2ea57434ebec4ac0d7023be14": {
          "model_module": "@jupyter-widgets/controls",
          "model_name": "DescriptionStyleModel",
          "model_module_version": "1.5.0",
          "state": {
            "_model_module": "@jupyter-widgets/controls",
            "_model_module_version": "1.5.0",
            "_model_name": "DescriptionStyleModel",
            "_view_count": null,
            "_view_module": "@jupyter-widgets/base",
            "_view_module_version": "1.2.0",
            "_view_name": "StyleView",
            "description_width": ""
          }
        },
        "d049146d0c1a49ab8581dd2d0b8db3aa": {
          "model_module": "@jupyter-widgets/controls",
          "model_name": "HBoxModel",
          "model_module_version": "1.5.0",
          "state": {
            "_dom_classes": [],
            "_model_module": "@jupyter-widgets/controls",
            "_model_module_version": "1.5.0",
            "_model_name": "HBoxModel",
            "_view_count": null,
            "_view_module": "@jupyter-widgets/controls",
            "_view_module_version": "1.5.0",
            "_view_name": "HBoxView",
            "box_style": "",
            "children": [
              "IPY_MODEL_b4b431c74197447e850c0f9bc6598185",
              "IPY_MODEL_6fa1dfce97ea4471818499a8ab110d3f",
              "IPY_MODEL_97e32e67c11e4f19a5f1b8ca75584577"
            ],
            "layout": "IPY_MODEL_8e89c89d082f46aea96656340276c5be"
          }
        },
        "b4b431c74197447e850c0f9bc6598185": {
          "model_module": "@jupyter-widgets/controls",
          "model_name": "HTMLModel",
          "model_module_version": "1.5.0",
          "state": {
            "_dom_classes": [],
            "_model_module": "@jupyter-widgets/controls",
            "_model_module_version": "1.5.0",
            "_model_name": "HTMLModel",
            "_view_count": null,
            "_view_module": "@jupyter-widgets/controls",
            "_view_module_version": "1.5.0",
            "_view_name": "HTMLView",
            "description": "",
            "description_tooltip": null,
            "layout": "IPY_MODEL_ddcc35c6eaf94ef49b3ee5c27ed413b0",
            "placeholder": "​",
            "style": "IPY_MODEL_395e2af422a7478e921f8c3612b8fc3f",
            "value": "Downloading: 100%"
          }
        },
        "6fa1dfce97ea4471818499a8ab110d3f": {
          "model_module": "@jupyter-widgets/controls",
          "model_name": "FloatProgressModel",
          "model_module_version": "1.5.0",
          "state": {
            "_dom_classes": [],
            "_model_module": "@jupyter-widgets/controls",
            "_model_module_version": "1.5.0",
            "_model_name": "FloatProgressModel",
            "_view_count": null,
            "_view_module": "@jupyter-widgets/controls",
            "_view_module_version": "1.5.0",
            "_view_name": "ProgressView",
            "bar_style": "success",
            "description": "",
            "description_tooltip": null,
            "layout": "IPY_MODEL_4c685afc9d694614b56f53448634abcd",
            "max": 17739960,
            "min": 0,
            "orientation": "horizontal",
            "style": "IPY_MODEL_cd31d6ebe53741c2b47df6236177264b",
            "value": 17739960
          }
        },
        "97e32e67c11e4f19a5f1b8ca75584577": {
          "model_module": "@jupyter-widgets/controls",
          "model_name": "HTMLModel",
          "model_module_version": "1.5.0",
          "state": {
            "_dom_classes": [],
            "_model_module": "@jupyter-widgets/controls",
            "_model_module_version": "1.5.0",
            "_model_name": "HTMLModel",
            "_view_count": null,
            "_view_module": "@jupyter-widgets/controls",
            "_view_module_version": "1.5.0",
            "_view_name": "HTMLView",
            "description": "",
            "description_tooltip": null,
            "layout": "IPY_MODEL_27e39143a2c24556951a2da01a800110",
            "placeholder": "​",
            "style": "IPY_MODEL_e34d34357e8c412daf3e6f2ef69c7c44",
            "value": " 17.7M/17.7M [00:00&lt;00:00, 49.4MB/s]"
          }
        },
        "8e89c89d082f46aea96656340276c5be": {
          "model_module": "@jupyter-widgets/base",
          "model_name": "LayoutModel",
          "model_module_version": "1.2.0",
          "state": {
            "_model_module": "@jupyter-widgets/base",
            "_model_module_version": "1.2.0",
            "_model_name": "LayoutModel",
            "_view_count": null,
            "_view_module": "@jupyter-widgets/base",
            "_view_module_version": "1.2.0",
            "_view_name": "LayoutView",
            "align_content": null,
            "align_items": null,
            "align_self": null,
            "border": null,
            "bottom": null,
            "display": null,
            "flex": null,
            "flex_flow": null,
            "grid_area": null,
            "grid_auto_columns": null,
            "grid_auto_flow": null,
            "grid_auto_rows": null,
            "grid_column": null,
            "grid_gap": null,
            "grid_row": null,
            "grid_template_areas": null,
            "grid_template_columns": null,
            "grid_template_rows": null,
            "height": null,
            "justify_content": null,
            "justify_items": null,
            "left": null,
            "margin": null,
            "max_height": null,
            "max_width": null,
            "min_height": null,
            "min_width": null,
            "object_fit": null,
            "object_position": null,
            "order": null,
            "overflow": null,
            "overflow_x": null,
            "overflow_y": null,
            "padding": null,
            "right": null,
            "top": null,
            "visibility": null,
            "width": null
          }
        },
        "ddcc35c6eaf94ef49b3ee5c27ed413b0": {
          "model_module": "@jupyter-widgets/base",
          "model_name": "LayoutModel",
          "model_module_version": "1.2.0",
          "state": {
            "_model_module": "@jupyter-widgets/base",
            "_model_module_version": "1.2.0",
            "_model_name": "LayoutModel",
            "_view_count": null,
            "_view_module": "@jupyter-widgets/base",
            "_view_module_version": "1.2.0",
            "_view_name": "LayoutView",
            "align_content": null,
            "align_items": null,
            "align_self": null,
            "border": null,
            "bottom": null,
            "display": null,
            "flex": null,
            "flex_flow": null,
            "grid_area": null,
            "grid_auto_columns": null,
            "grid_auto_flow": null,
            "grid_auto_rows": null,
            "grid_column": null,
            "grid_gap": null,
            "grid_row": null,
            "grid_template_areas": null,
            "grid_template_columns": null,
            "grid_template_rows": null,
            "height": null,
            "justify_content": null,
            "justify_items": null,
            "left": null,
            "margin": null,
            "max_height": null,
            "max_width": null,
            "min_height": null,
            "min_width": null,
            "object_fit": null,
            "object_position": null,
            "order": null,
            "overflow": null,
            "overflow_x": null,
            "overflow_y": null,
            "padding": null,
            "right": null,
            "top": null,
            "visibility": null,
            "width": null
          }
        },
        "395e2af422a7478e921f8c3612b8fc3f": {
          "model_module": "@jupyter-widgets/controls",
          "model_name": "DescriptionStyleModel",
          "model_module_version": "1.5.0",
          "state": {
            "_model_module": "@jupyter-widgets/controls",
            "_model_module_version": "1.5.0",
            "_model_name": "DescriptionStyleModel",
            "_view_count": null,
            "_view_module": "@jupyter-widgets/base",
            "_view_module_version": "1.2.0",
            "_view_name": "StyleView",
            "description_width": ""
          }
        },
        "4c685afc9d694614b56f53448634abcd": {
          "model_module": "@jupyter-widgets/base",
          "model_name": "LayoutModel",
          "model_module_version": "1.2.0",
          "state": {
            "_model_module": "@jupyter-widgets/base",
            "_model_module_version": "1.2.0",
            "_model_name": "LayoutModel",
            "_view_count": null,
            "_view_module": "@jupyter-widgets/base",
            "_view_module_version": "1.2.0",
            "_view_name": "LayoutView",
            "align_content": null,
            "align_items": null,
            "align_self": null,
            "border": null,
            "bottom": null,
            "display": null,
            "flex": null,
            "flex_flow": null,
            "grid_area": null,
            "grid_auto_columns": null,
            "grid_auto_flow": null,
            "grid_auto_rows": null,
            "grid_column": null,
            "grid_gap": null,
            "grid_row": null,
            "grid_template_areas": null,
            "grid_template_columns": null,
            "grid_template_rows": null,
            "height": null,
            "justify_content": null,
            "justify_items": null,
            "left": null,
            "margin": null,
            "max_height": null,
            "max_width": null,
            "min_height": null,
            "min_width": null,
            "object_fit": null,
            "object_position": null,
            "order": null,
            "overflow": null,
            "overflow_x": null,
            "overflow_y": null,
            "padding": null,
            "right": null,
            "top": null,
            "visibility": null,
            "width": null
          }
        },
        "cd31d6ebe53741c2b47df6236177264b": {
          "model_module": "@jupyter-widgets/controls",
          "model_name": "ProgressStyleModel",
          "model_module_version": "1.5.0",
          "state": {
            "_model_module": "@jupyter-widgets/controls",
            "_model_module_version": "1.5.0",
            "_model_name": "ProgressStyleModel",
            "_view_count": null,
            "_view_module": "@jupyter-widgets/base",
            "_view_module_version": "1.2.0",
            "_view_name": "StyleView",
            "bar_color": null,
            "description_width": ""
          }
        },
        "27e39143a2c24556951a2da01a800110": {
          "model_module": "@jupyter-widgets/base",
          "model_name": "LayoutModel",
          "model_module_version": "1.2.0",
          "state": {
            "_model_module": "@jupyter-widgets/base",
            "_model_module_version": "1.2.0",
            "_model_name": "LayoutModel",
            "_view_count": null,
            "_view_module": "@jupyter-widgets/base",
            "_view_module_version": "1.2.0",
            "_view_name": "LayoutView",
            "align_content": null,
            "align_items": null,
            "align_self": null,
            "border": null,
            "bottom": null,
            "display": null,
            "flex": null,
            "flex_flow": null,
            "grid_area": null,
            "grid_auto_columns": null,
            "grid_auto_flow": null,
            "grid_auto_rows": null,
            "grid_column": null,
            "grid_gap": null,
            "grid_row": null,
            "grid_template_areas": null,
            "grid_template_columns": null,
            "grid_template_rows": null,
            "height": null,
            "justify_content": null,
            "justify_items": null,
            "left": null,
            "margin": null,
            "max_height": null,
            "max_width": null,
            "min_height": null,
            "min_width": null,
            "object_fit": null,
            "object_position": null,
            "order": null,
            "overflow": null,
            "overflow_x": null,
            "overflow_y": null,
            "padding": null,
            "right": null,
            "top": null,
            "visibility": null,
            "width": null
          }
        },
        "e34d34357e8c412daf3e6f2ef69c7c44": {
          "model_module": "@jupyter-widgets/controls",
          "model_name": "DescriptionStyleModel",
          "model_module_version": "1.5.0",
          "state": {
            "_model_module": "@jupyter-widgets/controls",
            "_model_module_version": "1.5.0",
            "_model_name": "DescriptionStyleModel",
            "_view_count": null,
            "_view_module": "@jupyter-widgets/base",
            "_view_module_version": "1.2.0",
            "_view_name": "StyleView",
            "description_width": ""
          }
        },
        "2622711a20534d349eefc2c28318cb80": {
          "model_module": "@jupyter-widgets/controls",
          "model_name": "HBoxModel",
          "model_module_version": "1.5.0",
          "state": {
            "_dom_classes": [],
            "_model_module": "@jupyter-widgets/controls",
            "_model_module_version": "1.5.0",
            "_model_name": "HBoxModel",
            "_view_count": null,
            "_view_module": "@jupyter-widgets/controls",
            "_view_module_version": "1.5.0",
            "_view_name": "HBoxView",
            "box_style": "",
            "children": [
              "IPY_MODEL_affc4786dea94c10ad8d6940a08bf8d1",
              "IPY_MODEL_4aaf6c7e0a4144948df0177231077984",
              "IPY_MODEL_06759ff6091b4b3ab8b3f963a2d25e82"
            ],
            "layout": "IPY_MODEL_9c21de55da2c485f923b5ee9eff02413"
          }
        },
        "affc4786dea94c10ad8d6940a08bf8d1": {
          "model_module": "@jupyter-widgets/controls",
          "model_name": "HTMLModel",
          "model_module_version": "1.5.0",
          "state": {
            "_dom_classes": [],
            "_model_module": "@jupyter-widgets/controls",
            "_model_module_version": "1.5.0",
            "_model_name": "HTMLModel",
            "_view_count": null,
            "_view_module": "@jupyter-widgets/controls",
            "_view_module_version": "1.5.0",
            "_view_name": "HTMLView",
            "description": "",
            "description_tooltip": null,
            "layout": "IPY_MODEL_4c14434d70e54e59b56718ec624b7e5c",
            "placeholder": "​",
            "style": "IPY_MODEL_ad56c250484e426b881e30eae9fa42ec",
            "value": "Downloading: 100%"
          }
        },
        "4aaf6c7e0a4144948df0177231077984": {
          "model_module": "@jupyter-widgets/controls",
          "model_name": "FloatProgressModel",
          "model_module_version": "1.5.0",
          "state": {
            "_dom_classes": [],
            "_model_module": "@jupyter-widgets/controls",
            "_model_module_version": "1.5.0",
            "_model_name": "FloatProgressModel",
            "_view_count": null,
            "_view_module": "@jupyter-widgets/controls",
            "_view_module_version": "1.5.0",
            "_view_name": "ProgressView",
            "bar_style": "success",
            "description": "",
            "description_tooltip": null,
            "layout": "IPY_MODEL_9b9a66b65556454dbbb0737ecf4f1bbb",
            "max": 1980,
            "min": 0,
            "orientation": "horizontal",
            "style": "IPY_MODEL_85d21a16f2f642278cf923facdc1f556",
            "value": 1980
          }
        },
        "06759ff6091b4b3ab8b3f963a2d25e82": {
          "model_module": "@jupyter-widgets/controls",
          "model_name": "HTMLModel",
          "model_module_version": "1.5.0",
          "state": {
            "_dom_classes": [],
            "_model_module": "@jupyter-widgets/controls",
            "_model_module_version": "1.5.0",
            "_model_name": "HTMLModel",
            "_view_count": null,
            "_view_module": "@jupyter-widgets/controls",
            "_view_module_version": "1.5.0",
            "_view_name": "HTMLView",
            "description": "",
            "description_tooltip": null,
            "layout": "IPY_MODEL_f8036763774f49be93168d6d4646fda3",
            "placeholder": "​",
            "style": "IPY_MODEL_767eb6e139c3459cb83fb52f45873314",
            "value": " 1.98k/1.98k [00:00&lt;00:00, 42.9kB/s]"
          }
        },
        "9c21de55da2c485f923b5ee9eff02413": {
          "model_module": "@jupyter-widgets/base",
          "model_name": "LayoutModel",
          "model_module_version": "1.2.0",
          "state": {
            "_model_module": "@jupyter-widgets/base",
            "_model_module_version": "1.2.0",
            "_model_name": "LayoutModel",
            "_view_count": null,
            "_view_module": "@jupyter-widgets/base",
            "_view_module_version": "1.2.0",
            "_view_name": "LayoutView",
            "align_content": null,
            "align_items": null,
            "align_self": null,
            "border": null,
            "bottom": null,
            "display": null,
            "flex": null,
            "flex_flow": null,
            "grid_area": null,
            "grid_auto_columns": null,
            "grid_auto_flow": null,
            "grid_auto_rows": null,
            "grid_column": null,
            "grid_gap": null,
            "grid_row": null,
            "grid_template_areas": null,
            "grid_template_columns": null,
            "grid_template_rows": null,
            "height": null,
            "justify_content": null,
            "justify_items": null,
            "left": null,
            "margin": null,
            "max_height": null,
            "max_width": null,
            "min_height": null,
            "min_width": null,
            "object_fit": null,
            "object_position": null,
            "order": null,
            "overflow": null,
            "overflow_x": null,
            "overflow_y": null,
            "padding": null,
            "right": null,
            "top": null,
            "visibility": null,
            "width": null
          }
        },
        "4c14434d70e54e59b56718ec624b7e5c": {
          "model_module": "@jupyter-widgets/base",
          "model_name": "LayoutModel",
          "model_module_version": "1.2.0",
          "state": {
            "_model_module": "@jupyter-widgets/base",
            "_model_module_version": "1.2.0",
            "_model_name": "LayoutModel",
            "_view_count": null,
            "_view_module": "@jupyter-widgets/base",
            "_view_module_version": "1.2.0",
            "_view_name": "LayoutView",
            "align_content": null,
            "align_items": null,
            "align_self": null,
            "border": null,
            "bottom": null,
            "display": null,
            "flex": null,
            "flex_flow": null,
            "grid_area": null,
            "grid_auto_columns": null,
            "grid_auto_flow": null,
            "grid_auto_rows": null,
            "grid_column": null,
            "grid_gap": null,
            "grid_row": null,
            "grid_template_areas": null,
            "grid_template_columns": null,
            "grid_template_rows": null,
            "height": null,
            "justify_content": null,
            "justify_items": null,
            "left": null,
            "margin": null,
            "max_height": null,
            "max_width": null,
            "min_height": null,
            "min_width": null,
            "object_fit": null,
            "object_position": null,
            "order": null,
            "overflow": null,
            "overflow_x": null,
            "overflow_y": null,
            "padding": null,
            "right": null,
            "top": null,
            "visibility": null,
            "width": null
          }
        },
        "ad56c250484e426b881e30eae9fa42ec": {
          "model_module": "@jupyter-widgets/controls",
          "model_name": "DescriptionStyleModel",
          "model_module_version": "1.5.0",
          "state": {
            "_model_module": "@jupyter-widgets/controls",
            "_model_module_version": "1.5.0",
            "_model_name": "DescriptionStyleModel",
            "_view_count": null,
            "_view_module": "@jupyter-widgets/base",
            "_view_module_version": "1.2.0",
            "_view_name": "StyleView",
            "description_width": ""
          }
        },
        "9b9a66b65556454dbbb0737ecf4f1bbb": {
          "model_module": "@jupyter-widgets/base",
          "model_name": "LayoutModel",
          "model_module_version": "1.2.0",
          "state": {
            "_model_module": "@jupyter-widgets/base",
            "_model_module_version": "1.2.0",
            "_model_name": "LayoutModel",
            "_view_count": null,
            "_view_module": "@jupyter-widgets/base",
            "_view_module_version": "1.2.0",
            "_view_name": "LayoutView",
            "align_content": null,
            "align_items": null,
            "align_self": null,
            "border": null,
            "bottom": null,
            "display": null,
            "flex": null,
            "flex_flow": null,
            "grid_area": null,
            "grid_auto_columns": null,
            "grid_auto_flow": null,
            "grid_auto_rows": null,
            "grid_column": null,
            "grid_gap": null,
            "grid_row": null,
            "grid_template_areas": null,
            "grid_template_columns": null,
            "grid_template_rows": null,
            "height": null,
            "justify_content": null,
            "justify_items": null,
            "left": null,
            "margin": null,
            "max_height": null,
            "max_width": null,
            "min_height": null,
            "min_width": null,
            "object_fit": null,
            "object_position": null,
            "order": null,
            "overflow": null,
            "overflow_x": null,
            "overflow_y": null,
            "padding": null,
            "right": null,
            "top": null,
            "visibility": null,
            "width": null
          }
        },
        "85d21a16f2f642278cf923facdc1f556": {
          "model_module": "@jupyter-widgets/controls",
          "model_name": "ProgressStyleModel",
          "model_module_version": "1.5.0",
          "state": {
            "_model_module": "@jupyter-widgets/controls",
            "_model_module_version": "1.5.0",
            "_model_name": "ProgressStyleModel",
            "_view_count": null,
            "_view_module": "@jupyter-widgets/base",
            "_view_module_version": "1.2.0",
            "_view_name": "StyleView",
            "bar_color": null,
            "description_width": ""
          }
        },
        "f8036763774f49be93168d6d4646fda3": {
          "model_module": "@jupyter-widgets/base",
          "model_name": "LayoutModel",
          "model_module_version": "1.2.0",
          "state": {
            "_model_module": "@jupyter-widgets/base",
            "_model_module_version": "1.2.0",
            "_model_name": "LayoutModel",
            "_view_count": null,
            "_view_module": "@jupyter-widgets/base",
            "_view_module_version": "1.2.0",
            "_view_name": "LayoutView",
            "align_content": null,
            "align_items": null,
            "align_self": null,
            "border": null,
            "bottom": null,
            "display": null,
            "flex": null,
            "flex_flow": null,
            "grid_area": null,
            "grid_auto_columns": null,
            "grid_auto_flow": null,
            "grid_auto_rows": null,
            "grid_column": null,
            "grid_gap": null,
            "grid_row": null,
            "grid_template_areas": null,
            "grid_template_columns": null,
            "grid_template_rows": null,
            "height": null,
            "justify_content": null,
            "justify_items": null,
            "left": null,
            "margin": null,
            "max_height": null,
            "max_width": null,
            "min_height": null,
            "min_width": null,
            "object_fit": null,
            "object_position": null,
            "order": null,
            "overflow": null,
            "overflow_x": null,
            "overflow_y": null,
            "padding": null,
            "right": null,
            "top": null,
            "visibility": null,
            "width": null
          }
        },
        "767eb6e139c3459cb83fb52f45873314": {
          "model_module": "@jupyter-widgets/controls",
          "model_name": "DescriptionStyleModel",
          "model_module_version": "1.5.0",
          "state": {
            "_model_module": "@jupyter-widgets/controls",
            "_model_module_version": "1.5.0",
            "_model_name": "DescriptionStyleModel",
            "_view_count": null,
            "_view_module": "@jupyter-widgets/base",
            "_view_module_version": "1.2.0",
            "_view_name": "StyleView",
            "description_width": ""
          }
        },
        "8a8e33e8cc0f4ff6819dca9183e98dd5": {
          "model_module": "@jupyter-widgets/controls",
          "model_name": "HBoxModel",
          "model_module_version": "1.5.0",
          "state": {
            "_dom_classes": [],
            "_model_module": "@jupyter-widgets/controls",
            "_model_module_version": "1.5.0",
            "_model_name": "HBoxModel",
            "_view_count": null,
            "_view_module": "@jupyter-widgets/controls",
            "_view_module_version": "1.5.0",
            "_view_name": "HBoxView",
            "box_style": "",
            "children": [
              "IPY_MODEL_db213b1188364b249538035256bcc92e",
              "IPY_MODEL_d6756c63332b4f0d8ee5bcf1da395f70",
              "IPY_MODEL_b0524b3fde6a47e2a0452c5835e3d297"
            ],
            "layout": "IPY_MODEL_9cc1733c42ef4290b7789fdb020eeb66"
          }
        },
        "db213b1188364b249538035256bcc92e": {
          "model_module": "@jupyter-widgets/controls",
          "model_name": "HTMLModel",
          "model_module_version": "1.5.0",
          "state": {
            "_dom_classes": [],
            "_model_module": "@jupyter-widgets/controls",
            "_model_module_version": "1.5.0",
            "_model_name": "HTMLModel",
            "_view_count": null,
            "_view_module": "@jupyter-widgets/controls",
            "_view_module_version": "1.5.0",
            "_view_name": "HTMLView",
            "description": "",
            "description_tooltip": null,
            "layout": "IPY_MODEL_704ee5a4f3fb4c69b7f780adf63b8072",
            "placeholder": "​",
            "style": "IPY_MODEL_99496f94e4984df4823da49c09224dde",
            "value": "Downloading: 100%"
          }
        },
        "d6756c63332b4f0d8ee5bcf1da395f70": {
          "model_module": "@jupyter-widgets/controls",
          "model_name": "FloatProgressModel",
          "model_module_version": "1.5.0",
          "state": {
            "_dom_classes": [],
            "_model_module": "@jupyter-widgets/controls",
            "_model_module_version": "1.5.0",
            "_model_name": "FloatProgressModel",
            "_view_count": null,
            "_view_module": "@jupyter-widgets/controls",
            "_view_module_version": "1.5.0",
            "_view_name": "ProgressView",
            "bar_style": "success",
            "description": "",
            "description_tooltip": null,
            "layout": "IPY_MODEL_927b2d6987f5421289c1e22c2cbb76c2",
            "max": 1920,
            "min": 0,
            "orientation": "horizontal",
            "style": "IPY_MODEL_b3d0a9c09aec486fb8dc2d90585b0dc0",
            "value": 1920
          }
        },
        "b0524b3fde6a47e2a0452c5835e3d297": {
          "model_module": "@jupyter-widgets/controls",
          "model_name": "HTMLModel",
          "model_module_version": "1.5.0",
          "state": {
            "_dom_classes": [],
            "_model_module": "@jupyter-widgets/controls",
            "_model_module_version": "1.5.0",
            "_model_name": "HTMLModel",
            "_view_count": null,
            "_view_module": "@jupyter-widgets/controls",
            "_view_module_version": "1.5.0",
            "_view_name": "HTMLView",
            "description": "",
            "description_tooltip": null,
            "layout": "IPY_MODEL_03d0fec1b5a64f2d9969c21bcd8b850b",
            "placeholder": "​",
            "style": "IPY_MODEL_0d96839d2c384725af8cd845b31dbb39",
            "value": " 1.92k/1.92k [00:00&lt;00:00, 54.2kB/s]"
          }
        },
        "9cc1733c42ef4290b7789fdb020eeb66": {
          "model_module": "@jupyter-widgets/base",
          "model_name": "LayoutModel",
          "model_module_version": "1.2.0",
          "state": {
            "_model_module": "@jupyter-widgets/base",
            "_model_module_version": "1.2.0",
            "_model_name": "LayoutModel",
            "_view_count": null,
            "_view_module": "@jupyter-widgets/base",
            "_view_module_version": "1.2.0",
            "_view_name": "LayoutView",
            "align_content": null,
            "align_items": null,
            "align_self": null,
            "border": null,
            "bottom": null,
            "display": null,
            "flex": null,
            "flex_flow": null,
            "grid_area": null,
            "grid_auto_columns": null,
            "grid_auto_flow": null,
            "grid_auto_rows": null,
            "grid_column": null,
            "grid_gap": null,
            "grid_row": null,
            "grid_template_areas": null,
            "grid_template_columns": null,
            "grid_template_rows": null,
            "height": null,
            "justify_content": null,
            "justify_items": null,
            "left": null,
            "margin": null,
            "max_height": null,
            "max_width": null,
            "min_height": null,
            "min_width": null,
            "object_fit": null,
            "object_position": null,
            "order": null,
            "overflow": null,
            "overflow_x": null,
            "overflow_y": null,
            "padding": null,
            "right": null,
            "top": null,
            "visibility": null,
            "width": null
          }
        },
        "704ee5a4f3fb4c69b7f780adf63b8072": {
          "model_module": "@jupyter-widgets/base",
          "model_name": "LayoutModel",
          "model_module_version": "1.2.0",
          "state": {
            "_model_module": "@jupyter-widgets/base",
            "_model_module_version": "1.2.0",
            "_model_name": "LayoutModel",
            "_view_count": null,
            "_view_module": "@jupyter-widgets/base",
            "_view_module_version": "1.2.0",
            "_view_name": "LayoutView",
            "align_content": null,
            "align_items": null,
            "align_self": null,
            "border": null,
            "bottom": null,
            "display": null,
            "flex": null,
            "flex_flow": null,
            "grid_area": null,
            "grid_auto_columns": null,
            "grid_auto_flow": null,
            "grid_auto_rows": null,
            "grid_column": null,
            "grid_gap": null,
            "grid_row": null,
            "grid_template_areas": null,
            "grid_template_columns": null,
            "grid_template_rows": null,
            "height": null,
            "justify_content": null,
            "justify_items": null,
            "left": null,
            "margin": null,
            "max_height": null,
            "max_width": null,
            "min_height": null,
            "min_width": null,
            "object_fit": null,
            "object_position": null,
            "order": null,
            "overflow": null,
            "overflow_x": null,
            "overflow_y": null,
            "padding": null,
            "right": null,
            "top": null,
            "visibility": null,
            "width": null
          }
        },
        "99496f94e4984df4823da49c09224dde": {
          "model_module": "@jupyter-widgets/controls",
          "model_name": "DescriptionStyleModel",
          "model_module_version": "1.5.0",
          "state": {
            "_model_module": "@jupyter-widgets/controls",
            "_model_module_version": "1.5.0",
            "_model_name": "DescriptionStyleModel",
            "_view_count": null,
            "_view_module": "@jupyter-widgets/base",
            "_view_module_version": "1.2.0",
            "_view_name": "StyleView",
            "description_width": ""
          }
        },
        "927b2d6987f5421289c1e22c2cbb76c2": {
          "model_module": "@jupyter-widgets/base",
          "model_name": "LayoutModel",
          "model_module_version": "1.2.0",
          "state": {
            "_model_module": "@jupyter-widgets/base",
            "_model_module_version": "1.2.0",
            "_model_name": "LayoutModel",
            "_view_count": null,
            "_view_module": "@jupyter-widgets/base",
            "_view_module_version": "1.2.0",
            "_view_name": "LayoutView",
            "align_content": null,
            "align_items": null,
            "align_self": null,
            "border": null,
            "bottom": null,
            "display": null,
            "flex": null,
            "flex_flow": null,
            "grid_area": null,
            "grid_auto_columns": null,
            "grid_auto_flow": null,
            "grid_auto_rows": null,
            "grid_column": null,
            "grid_gap": null,
            "grid_row": null,
            "grid_template_areas": null,
            "grid_template_columns": null,
            "grid_template_rows": null,
            "height": null,
            "justify_content": null,
            "justify_items": null,
            "left": null,
            "margin": null,
            "max_height": null,
            "max_width": null,
            "min_height": null,
            "min_width": null,
            "object_fit": null,
            "object_position": null,
            "order": null,
            "overflow": null,
            "overflow_x": null,
            "overflow_y": null,
            "padding": null,
            "right": null,
            "top": null,
            "visibility": null,
            "width": null
          }
        },
        "b3d0a9c09aec486fb8dc2d90585b0dc0": {
          "model_module": "@jupyter-widgets/controls",
          "model_name": "ProgressStyleModel",
          "model_module_version": "1.5.0",
          "state": {
            "_model_module": "@jupyter-widgets/controls",
            "_model_module_version": "1.5.0",
            "_model_name": "ProgressStyleModel",
            "_view_count": null,
            "_view_module": "@jupyter-widgets/base",
            "_view_module_version": "1.2.0",
            "_view_name": "StyleView",
            "bar_color": null,
            "description_width": ""
          }
        },
        "03d0fec1b5a64f2d9969c21bcd8b850b": {
          "model_module": "@jupyter-widgets/base",
          "model_name": "LayoutModel",
          "model_module_version": "1.2.0",
          "state": {
            "_model_module": "@jupyter-widgets/base",
            "_model_module_version": "1.2.0",
            "_model_name": "LayoutModel",
            "_view_count": null,
            "_view_module": "@jupyter-widgets/base",
            "_view_module_version": "1.2.0",
            "_view_name": "LayoutView",
            "align_content": null,
            "align_items": null,
            "align_self": null,
            "border": null,
            "bottom": null,
            "display": null,
            "flex": null,
            "flex_flow": null,
            "grid_area": null,
            "grid_auto_columns": null,
            "grid_auto_flow": null,
            "grid_auto_rows": null,
            "grid_column": null,
            "grid_gap": null,
            "grid_row": null,
            "grid_template_areas": null,
            "grid_template_columns": null,
            "grid_template_rows": null,
            "height": null,
            "justify_content": null,
            "justify_items": null,
            "left": null,
            "margin": null,
            "max_height": null,
            "max_width": null,
            "min_height": null,
            "min_width": null,
            "object_fit": null,
            "object_position": null,
            "order": null,
            "overflow": null,
            "overflow_x": null,
            "overflow_y": null,
            "padding": null,
            "right": null,
            "top": null,
            "visibility": null,
            "width": null
          }
        },
        "0d96839d2c384725af8cd845b31dbb39": {
          "model_module": "@jupyter-widgets/controls",
          "model_name": "DescriptionStyleModel",
          "model_module_version": "1.5.0",
          "state": {
            "_model_module": "@jupyter-widgets/controls",
            "_model_module_version": "1.5.0",
            "_model_name": "DescriptionStyleModel",
            "_view_count": null,
            "_view_module": "@jupyter-widgets/base",
            "_view_module_version": "1.2.0",
            "_view_name": "StyleView",
            "description_width": ""
          }
        },
        "90ce444e39b84e25b420c525bc172c63": {
          "model_module": "@jupyter-widgets/controls",
          "model_name": "HBoxModel",
          "model_module_version": "1.5.0",
          "state": {
            "_dom_classes": [],
            "_model_module": "@jupyter-widgets/controls",
            "_model_module_version": "1.5.0",
            "_model_name": "HBoxModel",
            "_view_count": null,
            "_view_module": "@jupyter-widgets/controls",
            "_view_module_version": "1.5.0",
            "_view_name": "HBoxView",
            "box_style": "",
            "children": [
              "IPY_MODEL_5af91b18e6bf44d3ba04cd10b4b80218",
              "IPY_MODEL_c08b1ecb23794c32b25ee2160b22a869",
              "IPY_MODEL_7951e9f0e71e451f9492b953c721fca4"
            ],
            "layout": "IPY_MODEL_d5fefae6cad643618d3c7db4d4b7cd3a"
          }
        },
        "5af91b18e6bf44d3ba04cd10b4b80218": {
          "model_module": "@jupyter-widgets/controls",
          "model_name": "HTMLModel",
          "model_module_version": "1.5.0",
          "state": {
            "_dom_classes": [],
            "_model_module": "@jupyter-widgets/controls",
            "_model_module_version": "1.5.0",
            "_model_name": "HTMLModel",
            "_view_count": null,
            "_view_module": "@jupyter-widgets/controls",
            "_view_module_version": "1.5.0",
            "_view_name": "HTMLView",
            "description": "",
            "description_tooltip": null,
            "layout": "IPY_MODEL_582c737efed2471fb4a122252315e0ad",
            "placeholder": "​",
            "style": "IPY_MODEL_8483644645064332b611c7dd59faac8a",
            "value": "Downloading: 100%"
          }
        },
        "c08b1ecb23794c32b25ee2160b22a869": {
          "model_module": "@jupyter-widgets/controls",
          "model_name": "FloatProgressModel",
          "model_module_version": "1.5.0",
          "state": {
            "_dom_classes": [],
            "_model_module": "@jupyter-widgets/controls",
            "_model_module_version": "1.5.0",
            "_model_name": "FloatProgressModel",
            "_view_count": null,
            "_view_module": "@jupyter-widgets/controls",
            "_view_module_version": "1.5.0",
            "_view_name": "ProgressView",
            "bar_style": "success",
            "description": "",
            "description_tooltip": null,
            "layout": "IPY_MODEL_914dcc97e86e45e7ae5b481f33a66fec",
            "max": 83316686,
            "min": 0,
            "orientation": "horizontal",
            "style": "IPY_MODEL_9918d3dd0fab4bc8adf3a3a59891a43f",
            "value": 83316686
          }
        },
        "7951e9f0e71e451f9492b953c721fca4": {
          "model_module": "@jupyter-widgets/controls",
          "model_name": "HTMLModel",
          "model_module_version": "1.5.0",
          "state": {
            "_dom_classes": [],
            "_model_module": "@jupyter-widgets/controls",
            "_model_module_version": "1.5.0",
            "_model_name": "HTMLModel",
            "_view_count": null,
            "_view_module": "@jupyter-widgets/controls",
            "_view_module_version": "1.5.0",
            "_view_name": "HTMLView",
            "description": "",
            "description_tooltip": null,
            "layout": "IPY_MODEL_7e4b3993745d48139df822f10f021ab9",
            "placeholder": "​",
            "style": "IPY_MODEL_07dc988a15474cc0b176de428654e410",
            "value": " 83.3M/83.3M [00:01&lt;00:00, 57.4MB/s]"
          }
        },
        "d5fefae6cad643618d3c7db4d4b7cd3a": {
          "model_module": "@jupyter-widgets/base",
          "model_name": "LayoutModel",
          "model_module_version": "1.2.0",
          "state": {
            "_model_module": "@jupyter-widgets/base",
            "_model_module_version": "1.2.0",
            "_model_name": "LayoutModel",
            "_view_count": null,
            "_view_module": "@jupyter-widgets/base",
            "_view_module_version": "1.2.0",
            "_view_name": "LayoutView",
            "align_content": null,
            "align_items": null,
            "align_self": null,
            "border": null,
            "bottom": null,
            "display": null,
            "flex": null,
            "flex_flow": null,
            "grid_area": null,
            "grid_auto_columns": null,
            "grid_auto_flow": null,
            "grid_auto_rows": null,
            "grid_column": null,
            "grid_gap": null,
            "grid_row": null,
            "grid_template_areas": null,
            "grid_template_columns": null,
            "grid_template_rows": null,
            "height": null,
            "justify_content": null,
            "justify_items": null,
            "left": null,
            "margin": null,
            "max_height": null,
            "max_width": null,
            "min_height": null,
            "min_width": null,
            "object_fit": null,
            "object_position": null,
            "order": null,
            "overflow": null,
            "overflow_x": null,
            "overflow_y": null,
            "padding": null,
            "right": null,
            "top": null,
            "visibility": null,
            "width": null
          }
        },
        "582c737efed2471fb4a122252315e0ad": {
          "model_module": "@jupyter-widgets/base",
          "model_name": "LayoutModel",
          "model_module_version": "1.2.0",
          "state": {
            "_model_module": "@jupyter-widgets/base",
            "_model_module_version": "1.2.0",
            "_model_name": "LayoutModel",
            "_view_count": null,
            "_view_module": "@jupyter-widgets/base",
            "_view_module_version": "1.2.0",
            "_view_name": "LayoutView",
            "align_content": null,
            "align_items": null,
            "align_self": null,
            "border": null,
            "bottom": null,
            "display": null,
            "flex": null,
            "flex_flow": null,
            "grid_area": null,
            "grid_auto_columns": null,
            "grid_auto_flow": null,
            "grid_auto_rows": null,
            "grid_column": null,
            "grid_gap": null,
            "grid_row": null,
            "grid_template_areas": null,
            "grid_template_columns": null,
            "grid_template_rows": null,
            "height": null,
            "justify_content": null,
            "justify_items": null,
            "left": null,
            "margin": null,
            "max_height": null,
            "max_width": null,
            "min_height": null,
            "min_width": null,
            "object_fit": null,
            "object_position": null,
            "order": null,
            "overflow": null,
            "overflow_x": null,
            "overflow_y": null,
            "padding": null,
            "right": null,
            "top": null,
            "visibility": null,
            "width": null
          }
        },
        "8483644645064332b611c7dd59faac8a": {
          "model_module": "@jupyter-widgets/controls",
          "model_name": "DescriptionStyleModel",
          "model_module_version": "1.5.0",
          "state": {
            "_model_module": "@jupyter-widgets/controls",
            "_model_module_version": "1.5.0",
            "_model_name": "DescriptionStyleModel",
            "_view_count": null,
            "_view_module": "@jupyter-widgets/base",
            "_view_module_version": "1.2.0",
            "_view_name": "StyleView",
            "description_width": ""
          }
        },
        "914dcc97e86e45e7ae5b481f33a66fec": {
          "model_module": "@jupyter-widgets/base",
          "model_name": "LayoutModel",
          "model_module_version": "1.2.0",
          "state": {
            "_model_module": "@jupyter-widgets/base",
            "_model_module_version": "1.2.0",
            "_model_name": "LayoutModel",
            "_view_count": null,
            "_view_module": "@jupyter-widgets/base",
            "_view_module_version": "1.2.0",
            "_view_name": "LayoutView",
            "align_content": null,
            "align_items": null,
            "align_self": null,
            "border": null,
            "bottom": null,
            "display": null,
            "flex": null,
            "flex_flow": null,
            "grid_area": null,
            "grid_auto_columns": null,
            "grid_auto_flow": null,
            "grid_auto_rows": null,
            "grid_column": null,
            "grid_gap": null,
            "grid_row": null,
            "grid_template_areas": null,
            "grid_template_columns": null,
            "grid_template_rows": null,
            "height": null,
            "justify_content": null,
            "justify_items": null,
            "left": null,
            "margin": null,
            "max_height": null,
            "max_width": null,
            "min_height": null,
            "min_width": null,
            "object_fit": null,
            "object_position": null,
            "order": null,
            "overflow": null,
            "overflow_x": null,
            "overflow_y": null,
            "padding": null,
            "right": null,
            "top": null,
            "visibility": null,
            "width": null
          }
        },
        "9918d3dd0fab4bc8adf3a3a59891a43f": {
          "model_module": "@jupyter-widgets/controls",
          "model_name": "ProgressStyleModel",
          "model_module_version": "1.5.0",
          "state": {
            "_model_module": "@jupyter-widgets/controls",
            "_model_module_version": "1.5.0",
            "_model_name": "ProgressStyleModel",
            "_view_count": null,
            "_view_module": "@jupyter-widgets/base",
            "_view_module_version": "1.2.0",
            "_view_name": "StyleView",
            "bar_color": null,
            "description_width": ""
          }
        },
        "7e4b3993745d48139df822f10f021ab9": {
          "model_module": "@jupyter-widgets/base",
          "model_name": "LayoutModel",
          "model_module_version": "1.2.0",
          "state": {
            "_model_module": "@jupyter-widgets/base",
            "_model_module_version": "1.2.0",
            "_model_name": "LayoutModel",
            "_view_count": null,
            "_view_module": "@jupyter-widgets/base",
            "_view_module_version": "1.2.0",
            "_view_name": "LayoutView",
            "align_content": null,
            "align_items": null,
            "align_self": null,
            "border": null,
            "bottom": null,
            "display": null,
            "flex": null,
            "flex_flow": null,
            "grid_area": null,
            "grid_auto_columns": null,
            "grid_auto_flow": null,
            "grid_auto_rows": null,
            "grid_column": null,
            "grid_gap": null,
            "grid_row": null,
            "grid_template_areas": null,
            "grid_template_columns": null,
            "grid_template_rows": null,
            "height": null,
            "justify_content": null,
            "justify_items": null,
            "left": null,
            "margin": null,
            "max_height": null,
            "max_width": null,
            "min_height": null,
            "min_width": null,
            "object_fit": null,
            "object_position": null,
            "order": null,
            "overflow": null,
            "overflow_x": null,
            "overflow_y": null,
            "padding": null,
            "right": null,
            "top": null,
            "visibility": null,
            "width": null
          }
        },
        "07dc988a15474cc0b176de428654e410": {
          "model_module": "@jupyter-widgets/controls",
          "model_name": "DescriptionStyleModel",
          "model_module_version": "1.5.0",
          "state": {
            "_model_module": "@jupyter-widgets/controls",
            "_model_module_version": "1.5.0",
            "_model_name": "DescriptionStyleModel",
            "_view_count": null,
            "_view_module": "@jupyter-widgets/base",
            "_view_module_version": "1.2.0",
            "_view_name": "StyleView",
            "description_width": ""
          }
        },
        "b4e004f3fb724bff9c8a600c3b60cbe3": {
          "model_module": "@jupyter-widgets/controls",
          "model_name": "HBoxModel",
          "model_module_version": "1.5.0",
          "state": {
            "_dom_classes": [],
            "_model_module": "@jupyter-widgets/controls",
            "_model_module_version": "1.5.0",
            "_model_name": "HBoxModel",
            "_view_count": null,
            "_view_module": "@jupyter-widgets/controls",
            "_view_module_version": "1.5.0",
            "_view_name": "HBoxView",
            "box_style": "",
            "children": [
              "IPY_MODEL_4964b412526f42eba69e4f902d9d21d9",
              "IPY_MODEL_ab0fa34479824bd0aa090de27f49b4ac",
              "IPY_MODEL_8dece375f9fd47de87730e2dd0c2accb"
            ],
            "layout": "IPY_MODEL_5820c7188d1640469a7b54a6d3fa0503"
          }
        },
        "4964b412526f42eba69e4f902d9d21d9": {
          "model_module": "@jupyter-widgets/controls",
          "model_name": "HTMLModel",
          "model_module_version": "1.5.0",
          "state": {
            "_dom_classes": [],
            "_model_module": "@jupyter-widgets/controls",
            "_model_module_version": "1.5.0",
            "_model_name": "HTMLModel",
            "_view_count": null,
            "_view_module": "@jupyter-widgets/controls",
            "_view_module_version": "1.5.0",
            "_view_name": "HTMLView",
            "description": "",
            "description_tooltip": null,
            "layout": "IPY_MODEL_df42a74095d94336bf69a2d494e4a8e8",
            "placeholder": "​",
            "style": "IPY_MODEL_d52510e869a54f829c50335949e7bf42",
            "value": "Downloading: 100%"
          }
        },
        "ab0fa34479824bd0aa090de27f49b4ac": {
          "model_module": "@jupyter-widgets/controls",
          "model_name": "FloatProgressModel",
          "model_module_version": "1.5.0",
          "state": {
            "_dom_classes": [],
            "_model_module": "@jupyter-widgets/controls",
            "_model_module_version": "1.5.0",
            "_model_name": "FloatProgressModel",
            "_view_count": null,
            "_view_module": "@jupyter-widgets/controls",
            "_view_module_version": "1.5.0",
            "_view_name": "ProgressView",
            "bar_style": "success",
            "description": "",
            "description_tooltip": null,
            "layout": "IPY_MODEL_324a9b8cbd824a9085be4f1a14f91024",
            "max": 1921,
            "min": 0,
            "orientation": "horizontal",
            "style": "IPY_MODEL_6a0081f42b194974ab88b2ec2195d4e5",
            "value": 1921
          }
        },
        "8dece375f9fd47de87730e2dd0c2accb": {
          "model_module": "@jupyter-widgets/controls",
          "model_name": "HTMLModel",
          "model_module_version": "1.5.0",
          "state": {
            "_dom_classes": [],
            "_model_module": "@jupyter-widgets/controls",
            "_model_module_version": "1.5.0",
            "_model_name": "HTMLModel",
            "_view_count": null,
            "_view_module": "@jupyter-widgets/controls",
            "_view_module_version": "1.5.0",
            "_view_name": "HTMLView",
            "description": "",
            "description_tooltip": null,
            "layout": "IPY_MODEL_ed7f1f3c57c645e29b43ed369b666f3e",
            "placeholder": "​",
            "style": "IPY_MODEL_7c64ebe78e214a21a9d508d6a82bbe69",
            "value": " 1.92k/1.92k [00:00&lt;00:00, 63.3kB/s]"
          }
        },
        "5820c7188d1640469a7b54a6d3fa0503": {
          "model_module": "@jupyter-widgets/base",
          "model_name": "LayoutModel",
          "model_module_version": "1.2.0",
          "state": {
            "_model_module": "@jupyter-widgets/base",
            "_model_module_version": "1.2.0",
            "_model_name": "LayoutModel",
            "_view_count": null,
            "_view_module": "@jupyter-widgets/base",
            "_view_module_version": "1.2.0",
            "_view_name": "LayoutView",
            "align_content": null,
            "align_items": null,
            "align_self": null,
            "border": null,
            "bottom": null,
            "display": null,
            "flex": null,
            "flex_flow": null,
            "grid_area": null,
            "grid_auto_columns": null,
            "grid_auto_flow": null,
            "grid_auto_rows": null,
            "grid_column": null,
            "grid_gap": null,
            "grid_row": null,
            "grid_template_areas": null,
            "grid_template_columns": null,
            "grid_template_rows": null,
            "height": null,
            "justify_content": null,
            "justify_items": null,
            "left": null,
            "margin": null,
            "max_height": null,
            "max_width": null,
            "min_height": null,
            "min_width": null,
            "object_fit": null,
            "object_position": null,
            "order": null,
            "overflow": null,
            "overflow_x": null,
            "overflow_y": null,
            "padding": null,
            "right": null,
            "top": null,
            "visibility": null,
            "width": null
          }
        },
        "df42a74095d94336bf69a2d494e4a8e8": {
          "model_module": "@jupyter-widgets/base",
          "model_name": "LayoutModel",
          "model_module_version": "1.2.0",
          "state": {
            "_model_module": "@jupyter-widgets/base",
            "_model_module_version": "1.2.0",
            "_model_name": "LayoutModel",
            "_view_count": null,
            "_view_module": "@jupyter-widgets/base",
            "_view_module_version": "1.2.0",
            "_view_name": "LayoutView",
            "align_content": null,
            "align_items": null,
            "align_self": null,
            "border": null,
            "bottom": null,
            "display": null,
            "flex": null,
            "flex_flow": null,
            "grid_area": null,
            "grid_auto_columns": null,
            "grid_auto_flow": null,
            "grid_auto_rows": null,
            "grid_column": null,
            "grid_gap": null,
            "grid_row": null,
            "grid_template_areas": null,
            "grid_template_columns": null,
            "grid_template_rows": null,
            "height": null,
            "justify_content": null,
            "justify_items": null,
            "left": null,
            "margin": null,
            "max_height": null,
            "max_width": null,
            "min_height": null,
            "min_width": null,
            "object_fit": null,
            "object_position": null,
            "order": null,
            "overflow": null,
            "overflow_x": null,
            "overflow_y": null,
            "padding": null,
            "right": null,
            "top": null,
            "visibility": null,
            "width": null
          }
        },
        "d52510e869a54f829c50335949e7bf42": {
          "model_module": "@jupyter-widgets/controls",
          "model_name": "DescriptionStyleModel",
          "model_module_version": "1.5.0",
          "state": {
            "_model_module": "@jupyter-widgets/controls",
            "_model_module_version": "1.5.0",
            "_model_name": "DescriptionStyleModel",
            "_view_count": null,
            "_view_module": "@jupyter-widgets/base",
            "_view_module_version": "1.2.0",
            "_view_name": "StyleView",
            "description_width": ""
          }
        },
        "324a9b8cbd824a9085be4f1a14f91024": {
          "model_module": "@jupyter-widgets/base",
          "model_name": "LayoutModel",
          "model_module_version": "1.2.0",
          "state": {
            "_model_module": "@jupyter-widgets/base",
            "_model_module_version": "1.2.0",
            "_model_name": "LayoutModel",
            "_view_count": null,
            "_view_module": "@jupyter-widgets/base",
            "_view_module_version": "1.2.0",
            "_view_name": "LayoutView",
            "align_content": null,
            "align_items": null,
            "align_self": null,
            "border": null,
            "bottom": null,
            "display": null,
            "flex": null,
            "flex_flow": null,
            "grid_area": null,
            "grid_auto_columns": null,
            "grid_auto_flow": null,
            "grid_auto_rows": null,
            "grid_column": null,
            "grid_gap": null,
            "grid_row": null,
            "grid_template_areas": null,
            "grid_template_columns": null,
            "grid_template_rows": null,
            "height": null,
            "justify_content": null,
            "justify_items": null,
            "left": null,
            "margin": null,
            "max_height": null,
            "max_width": null,
            "min_height": null,
            "min_width": null,
            "object_fit": null,
            "object_position": null,
            "order": null,
            "overflow": null,
            "overflow_x": null,
            "overflow_y": null,
            "padding": null,
            "right": null,
            "top": null,
            "visibility": null,
            "width": null
          }
        },
        "6a0081f42b194974ab88b2ec2195d4e5": {
          "model_module": "@jupyter-widgets/controls",
          "model_name": "ProgressStyleModel",
          "model_module_version": "1.5.0",
          "state": {
            "_model_module": "@jupyter-widgets/controls",
            "_model_module_version": "1.5.0",
            "_model_name": "ProgressStyleModel",
            "_view_count": null,
            "_view_module": "@jupyter-widgets/base",
            "_view_module_version": "1.2.0",
            "_view_name": "StyleView",
            "bar_color": null,
            "description_width": ""
          }
        },
        "ed7f1f3c57c645e29b43ed369b666f3e": {
          "model_module": "@jupyter-widgets/base",
          "model_name": "LayoutModel",
          "model_module_version": "1.2.0",
          "state": {
            "_model_module": "@jupyter-widgets/base",
            "_model_module_version": "1.2.0",
            "_model_name": "LayoutModel",
            "_view_count": null,
            "_view_module": "@jupyter-widgets/base",
            "_view_module_version": "1.2.0",
            "_view_name": "LayoutView",
            "align_content": null,
            "align_items": null,
            "align_self": null,
            "border": null,
            "bottom": null,
            "display": null,
            "flex": null,
            "flex_flow": null,
            "grid_area": null,
            "grid_auto_columns": null,
            "grid_auto_flow": null,
            "grid_auto_rows": null,
            "grid_column": null,
            "grid_gap": null,
            "grid_row": null,
            "grid_template_areas": null,
            "grid_template_columns": null,
            "grid_template_rows": null,
            "height": null,
            "justify_content": null,
            "justify_items": null,
            "left": null,
            "margin": null,
            "max_height": null,
            "max_width": null,
            "min_height": null,
            "min_width": null,
            "object_fit": null,
            "object_position": null,
            "order": null,
            "overflow": null,
            "overflow_x": null,
            "overflow_y": null,
            "padding": null,
            "right": null,
            "top": null,
            "visibility": null,
            "width": null
          }
        },
        "7c64ebe78e214a21a9d508d6a82bbe69": {
          "model_module": "@jupyter-widgets/controls",
          "model_name": "DescriptionStyleModel",
          "model_module_version": "1.5.0",
          "state": {
            "_model_module": "@jupyter-widgets/controls",
            "_model_module_version": "1.5.0",
            "_model_name": "DescriptionStyleModel",
            "_view_count": null,
            "_view_module": "@jupyter-widgets/base",
            "_view_module_version": "1.2.0",
            "_view_name": "StyleView",
            "description_width": ""
          }
        },
        "61f09bf016614816b6d8cbbdf1c5a61f": {
          "model_module": "@jupyter-widgets/controls",
          "model_name": "HBoxModel",
          "model_module_version": "1.5.0",
          "state": {
            "_dom_classes": [],
            "_model_module": "@jupyter-widgets/controls",
            "_model_module_version": "1.5.0",
            "_model_name": "HBoxModel",
            "_view_count": null,
            "_view_module": "@jupyter-widgets/controls",
            "_view_module_version": "1.5.0",
            "_view_name": "HBoxView",
            "box_style": "",
            "children": [
              "IPY_MODEL_4c2a6a8a056c4d29a171dafb023350da",
              "IPY_MODEL_24116fc398544fadab5cd7282bd7652f",
              "IPY_MODEL_704fa8f36dd64da994159a0c64c6844f"
            ],
            "layout": "IPY_MODEL_efa133ff6faa41eb9842e446689aa816"
          }
        },
        "4c2a6a8a056c4d29a171dafb023350da": {
          "model_module": "@jupyter-widgets/controls",
          "model_name": "HTMLModel",
          "model_module_version": "1.5.0",
          "state": {
            "_dom_classes": [],
            "_model_module": "@jupyter-widgets/controls",
            "_model_module_version": "1.5.0",
            "_model_name": "HTMLModel",
            "_view_count": null,
            "_view_module": "@jupyter-widgets/controls",
            "_view_module_version": "1.5.0",
            "_view_name": "HTMLView",
            "description": "",
            "description_tooltip": null,
            "layout": "IPY_MODEL_a8f089eacb8c4a688178497c8ee211e5",
            "placeholder": "​",
            "style": "IPY_MODEL_653d6debd68a461ba20d27f528b1e82c",
            "value": "Downloading: 100%"
          }
        },
        "24116fc398544fadab5cd7282bd7652f": {
          "model_module": "@jupyter-widgets/controls",
          "model_name": "FloatProgressModel",
          "model_module_version": "1.5.0",
          "state": {
            "_dom_classes": [],
            "_model_module": "@jupyter-widgets/controls",
            "_model_module_version": "1.5.0",
            "_model_name": "FloatProgressModel",
            "_view_count": null,
            "_view_module": "@jupyter-widgets/controls",
            "_view_module_version": "1.5.0",
            "_view_name": "ProgressView",
            "bar_style": "success",
            "description": "",
            "description_tooltip": null,
            "layout": "IPY_MODEL_a88273b015b54443a9b48e3b865a5212",
            "max": 5534328,
            "min": 0,
            "orientation": "horizontal",
            "style": "IPY_MODEL_9c3d7dc4515041d1a11e88f3f6a80562",
            "value": 5534328
          }
        },
        "704fa8f36dd64da994159a0c64c6844f": {
          "model_module": "@jupyter-widgets/controls",
          "model_name": "HTMLModel",
          "model_module_version": "1.5.0",
          "state": {
            "_dom_classes": [],
            "_model_module": "@jupyter-widgets/controls",
            "_model_module_version": "1.5.0",
            "_model_name": "HTMLModel",
            "_view_count": null,
            "_view_module": "@jupyter-widgets/controls",
            "_view_module_version": "1.5.0",
            "_view_name": "HTMLView",
            "description": "",
            "description_tooltip": null,
            "layout": "IPY_MODEL_fc1ba0e295644083bdba59c33c267b19",
            "placeholder": "​",
            "style": "IPY_MODEL_60240de1c96b4969ae814cb9cfdff0e1",
            "value": " 5.53M/5.53M [00:00&lt;00:00, 12.7MB/s]"
          }
        },
        "efa133ff6faa41eb9842e446689aa816": {
          "model_module": "@jupyter-widgets/base",
          "model_name": "LayoutModel",
          "model_module_version": "1.2.0",
          "state": {
            "_model_module": "@jupyter-widgets/base",
            "_model_module_version": "1.2.0",
            "_model_name": "LayoutModel",
            "_view_count": null,
            "_view_module": "@jupyter-widgets/base",
            "_view_module_version": "1.2.0",
            "_view_name": "LayoutView",
            "align_content": null,
            "align_items": null,
            "align_self": null,
            "border": null,
            "bottom": null,
            "display": null,
            "flex": null,
            "flex_flow": null,
            "grid_area": null,
            "grid_auto_columns": null,
            "grid_auto_flow": null,
            "grid_auto_rows": null,
            "grid_column": null,
            "grid_gap": null,
            "grid_row": null,
            "grid_template_areas": null,
            "grid_template_columns": null,
            "grid_template_rows": null,
            "height": null,
            "justify_content": null,
            "justify_items": null,
            "left": null,
            "margin": null,
            "max_height": null,
            "max_width": null,
            "min_height": null,
            "min_width": null,
            "object_fit": null,
            "object_position": null,
            "order": null,
            "overflow": null,
            "overflow_x": null,
            "overflow_y": null,
            "padding": null,
            "right": null,
            "top": null,
            "visibility": null,
            "width": null
          }
        },
        "a8f089eacb8c4a688178497c8ee211e5": {
          "model_module": "@jupyter-widgets/base",
          "model_name": "LayoutModel",
          "model_module_version": "1.2.0",
          "state": {
            "_model_module": "@jupyter-widgets/base",
            "_model_module_version": "1.2.0",
            "_model_name": "LayoutModel",
            "_view_count": null,
            "_view_module": "@jupyter-widgets/base",
            "_view_module_version": "1.2.0",
            "_view_name": "LayoutView",
            "align_content": null,
            "align_items": null,
            "align_self": null,
            "border": null,
            "bottom": null,
            "display": null,
            "flex": null,
            "flex_flow": null,
            "grid_area": null,
            "grid_auto_columns": null,
            "grid_auto_flow": null,
            "grid_auto_rows": null,
            "grid_column": null,
            "grid_gap": null,
            "grid_row": null,
            "grid_template_areas": null,
            "grid_template_columns": null,
            "grid_template_rows": null,
            "height": null,
            "justify_content": null,
            "justify_items": null,
            "left": null,
            "margin": null,
            "max_height": null,
            "max_width": null,
            "min_height": null,
            "min_width": null,
            "object_fit": null,
            "object_position": null,
            "order": null,
            "overflow": null,
            "overflow_x": null,
            "overflow_y": null,
            "padding": null,
            "right": null,
            "top": null,
            "visibility": null,
            "width": null
          }
        },
        "653d6debd68a461ba20d27f528b1e82c": {
          "model_module": "@jupyter-widgets/controls",
          "model_name": "DescriptionStyleModel",
          "model_module_version": "1.5.0",
          "state": {
            "_model_module": "@jupyter-widgets/controls",
            "_model_module_version": "1.5.0",
            "_model_name": "DescriptionStyleModel",
            "_view_count": null,
            "_view_module": "@jupyter-widgets/base",
            "_view_module_version": "1.2.0",
            "_view_name": "StyleView",
            "description_width": ""
          }
        },
        "a88273b015b54443a9b48e3b865a5212": {
          "model_module": "@jupyter-widgets/base",
          "model_name": "LayoutModel",
          "model_module_version": "1.2.0",
          "state": {
            "_model_module": "@jupyter-widgets/base",
            "_model_module_version": "1.2.0",
            "_model_name": "LayoutModel",
            "_view_count": null,
            "_view_module": "@jupyter-widgets/base",
            "_view_module_version": "1.2.0",
            "_view_name": "LayoutView",
            "align_content": null,
            "align_items": null,
            "align_self": null,
            "border": null,
            "bottom": null,
            "display": null,
            "flex": null,
            "flex_flow": null,
            "grid_area": null,
            "grid_auto_columns": null,
            "grid_auto_flow": null,
            "grid_auto_rows": null,
            "grid_column": null,
            "grid_gap": null,
            "grid_row": null,
            "grid_template_areas": null,
            "grid_template_columns": null,
            "grid_template_rows": null,
            "height": null,
            "justify_content": null,
            "justify_items": null,
            "left": null,
            "margin": null,
            "max_height": null,
            "max_width": null,
            "min_height": null,
            "min_width": null,
            "object_fit": null,
            "object_position": null,
            "order": null,
            "overflow": null,
            "overflow_x": null,
            "overflow_y": null,
            "padding": null,
            "right": null,
            "top": null,
            "visibility": null,
            "width": null
          }
        },
        "9c3d7dc4515041d1a11e88f3f6a80562": {
          "model_module": "@jupyter-widgets/controls",
          "model_name": "ProgressStyleModel",
          "model_module_version": "1.5.0",
          "state": {
            "_model_module": "@jupyter-widgets/controls",
            "_model_module_version": "1.5.0",
            "_model_name": "ProgressStyleModel",
            "_view_count": null,
            "_view_module": "@jupyter-widgets/base",
            "_view_module_version": "1.2.0",
            "_view_name": "StyleView",
            "bar_color": null,
            "description_width": ""
          }
        },
        "fc1ba0e295644083bdba59c33c267b19": {
          "model_module": "@jupyter-widgets/base",
          "model_name": "LayoutModel",
          "model_module_version": "1.2.0",
          "state": {
            "_model_module": "@jupyter-widgets/base",
            "_model_module_version": "1.2.0",
            "_model_name": "LayoutModel",
            "_view_count": null,
            "_view_module": "@jupyter-widgets/base",
            "_view_module_version": "1.2.0",
            "_view_name": "LayoutView",
            "align_content": null,
            "align_items": null,
            "align_self": null,
            "border": null,
            "bottom": null,
            "display": null,
            "flex": null,
            "flex_flow": null,
            "grid_area": null,
            "grid_auto_columns": null,
            "grid_auto_flow": null,
            "grid_auto_rows": null,
            "grid_column": null,
            "grid_gap": null,
            "grid_row": null,
            "grid_template_areas": null,
            "grid_template_columns": null,
            "grid_template_rows": null,
            "height": null,
            "justify_content": null,
            "justify_items": null,
            "left": null,
            "margin": null,
            "max_height": null,
            "max_width": null,
            "min_height": null,
            "min_width": null,
            "object_fit": null,
            "object_position": null,
            "order": null,
            "overflow": null,
            "overflow_x": null,
            "overflow_y": null,
            "padding": null,
            "right": null,
            "top": null,
            "visibility": null,
            "width": null
          }
        },
        "60240de1c96b4969ae814cb9cfdff0e1": {
          "model_module": "@jupyter-widgets/controls",
          "model_name": "DescriptionStyleModel",
          "model_module_version": "1.5.0",
          "state": {
            "_model_module": "@jupyter-widgets/controls",
            "_model_module_version": "1.5.0",
            "_model_name": "DescriptionStyleModel",
            "_view_count": null,
            "_view_module": "@jupyter-widgets/base",
            "_view_module_version": "1.2.0",
            "_view_name": "StyleView",
            "description_width": ""
          }
        },
        "887be6d66a5849e9ad8e79940ab4f824": {
          "model_module": "@jupyter-widgets/controls",
          "model_name": "HBoxModel",
          "model_module_version": "1.5.0",
          "state": {
            "_dom_classes": [],
            "_model_module": "@jupyter-widgets/controls",
            "_model_module_version": "1.5.0",
            "_model_name": "HBoxModel",
            "_view_count": null,
            "_view_module": "@jupyter-widgets/controls",
            "_view_module_version": "1.5.0",
            "_view_name": "HBoxView",
            "box_style": "",
            "children": [
              "IPY_MODEL_97c93dca0e9449909a05e3c4fe0b100f",
              "IPY_MODEL_0345c830ab9a428f9424ac6d35b3d611",
              "IPY_MODEL_5b2456dfdf30428ebe5fe1a5a25e4d43"
            ],
            "layout": "IPY_MODEL_c5ed0cf13e794d75bb97da4183aeb0b5"
          }
        },
        "97c93dca0e9449909a05e3c4fe0b100f": {
          "model_module": "@jupyter-widgets/controls",
          "model_name": "HTMLModel",
          "model_module_version": "1.5.0",
          "state": {
            "_dom_classes": [],
            "_model_module": "@jupyter-widgets/controls",
            "_model_module_version": "1.5.0",
            "_model_name": "HTMLModel",
            "_view_count": null,
            "_view_module": "@jupyter-widgets/controls",
            "_view_module_version": "1.5.0",
            "_view_name": "HTMLView",
            "description": "",
            "description_tooltip": null,
            "layout": "IPY_MODEL_3be35b34036a4e99a664664263b15afc",
            "placeholder": "​",
            "style": "IPY_MODEL_3f2d74a37ea64681b8d58961df47cc86",
            "value": "Downloading: 100%"
          }
        },
        "0345c830ab9a428f9424ac6d35b3d611": {
          "model_module": "@jupyter-widgets/controls",
          "model_name": "FloatProgressModel",
          "model_module_version": "1.5.0",
          "state": {
            "_dom_classes": [],
            "_model_module": "@jupyter-widgets/controls",
            "_model_module_version": "1.5.0",
            "_model_name": "FloatProgressModel",
            "_view_count": null,
            "_view_module": "@jupyter-widgets/controls",
            "_view_module_version": "1.5.0",
            "_view_name": "ProgressView",
            "bar_style": "success",
            "description": "",
            "description_tooltip": null,
            "layout": "IPY_MODEL_7df1d179aba1434f96943590feba8a51",
            "max": 128619,
            "min": 0,
            "orientation": "horizontal",
            "style": "IPY_MODEL_ebc112e0c416477d80bd77e30de3a051",
            "value": 128619
          }
        },
        "5b2456dfdf30428ebe5fe1a5a25e4d43": {
          "model_module": "@jupyter-widgets/controls",
          "model_name": "HTMLModel",
          "model_module_version": "1.5.0",
          "state": {
            "_dom_classes": [],
            "_model_module": "@jupyter-widgets/controls",
            "_model_module_version": "1.5.0",
            "_model_name": "HTMLModel",
            "_view_count": null,
            "_view_module": "@jupyter-widgets/controls",
            "_view_module_version": "1.5.0",
            "_view_name": "HTMLView",
            "description": "",
            "description_tooltip": null,
            "layout": "IPY_MODEL_07b8fee4860543ffb9e6db9fe2208df2",
            "placeholder": "​",
            "style": "IPY_MODEL_23e1da50960c402382cec300883ad844",
            "value": " 129k/129k [00:00&lt;00:00, 1.49MB/s]"
          }
        },
        "c5ed0cf13e794d75bb97da4183aeb0b5": {
          "model_module": "@jupyter-widgets/base",
          "model_name": "LayoutModel",
          "model_module_version": "1.2.0",
          "state": {
            "_model_module": "@jupyter-widgets/base",
            "_model_module_version": "1.2.0",
            "_model_name": "LayoutModel",
            "_view_count": null,
            "_view_module": "@jupyter-widgets/base",
            "_view_module_version": "1.2.0",
            "_view_name": "LayoutView",
            "align_content": null,
            "align_items": null,
            "align_self": null,
            "border": null,
            "bottom": null,
            "display": null,
            "flex": null,
            "flex_flow": null,
            "grid_area": null,
            "grid_auto_columns": null,
            "grid_auto_flow": null,
            "grid_auto_rows": null,
            "grid_column": null,
            "grid_gap": null,
            "grid_row": null,
            "grid_template_areas": null,
            "grid_template_columns": null,
            "grid_template_rows": null,
            "height": null,
            "justify_content": null,
            "justify_items": null,
            "left": null,
            "margin": null,
            "max_height": null,
            "max_width": null,
            "min_height": null,
            "min_width": null,
            "object_fit": null,
            "object_position": null,
            "order": null,
            "overflow": null,
            "overflow_x": null,
            "overflow_y": null,
            "padding": null,
            "right": null,
            "top": null,
            "visibility": null,
            "width": null
          }
        },
        "3be35b34036a4e99a664664263b15afc": {
          "model_module": "@jupyter-widgets/base",
          "model_name": "LayoutModel",
          "model_module_version": "1.2.0",
          "state": {
            "_model_module": "@jupyter-widgets/base",
            "_model_module_version": "1.2.0",
            "_model_name": "LayoutModel",
            "_view_count": null,
            "_view_module": "@jupyter-widgets/base",
            "_view_module_version": "1.2.0",
            "_view_name": "LayoutView",
            "align_content": null,
            "align_items": null,
            "align_self": null,
            "border": null,
            "bottom": null,
            "display": null,
            "flex": null,
            "flex_flow": null,
            "grid_area": null,
            "grid_auto_columns": null,
            "grid_auto_flow": null,
            "grid_auto_rows": null,
            "grid_column": null,
            "grid_gap": null,
            "grid_row": null,
            "grid_template_areas": null,
            "grid_template_columns": null,
            "grid_template_rows": null,
            "height": null,
            "justify_content": null,
            "justify_items": null,
            "left": null,
            "margin": null,
            "max_height": null,
            "max_width": null,
            "min_height": null,
            "min_width": null,
            "object_fit": null,
            "object_position": null,
            "order": null,
            "overflow": null,
            "overflow_x": null,
            "overflow_y": null,
            "padding": null,
            "right": null,
            "top": null,
            "visibility": null,
            "width": null
          }
        },
        "3f2d74a37ea64681b8d58961df47cc86": {
          "model_module": "@jupyter-widgets/controls",
          "model_name": "DescriptionStyleModel",
          "model_module_version": "1.5.0",
          "state": {
            "_model_module": "@jupyter-widgets/controls",
            "_model_module_version": "1.5.0",
            "_model_name": "DescriptionStyleModel",
            "_view_count": null,
            "_view_module": "@jupyter-widgets/base",
            "_view_module_version": "1.2.0",
            "_view_name": "StyleView",
            "description_width": ""
          }
        },
        "7df1d179aba1434f96943590feba8a51": {
          "model_module": "@jupyter-widgets/base",
          "model_name": "LayoutModel",
          "model_module_version": "1.2.0",
          "state": {
            "_model_module": "@jupyter-widgets/base",
            "_model_module_version": "1.2.0",
            "_model_name": "LayoutModel",
            "_view_count": null,
            "_view_module": "@jupyter-widgets/base",
            "_view_module_version": "1.2.0",
            "_view_name": "LayoutView",
            "align_content": null,
            "align_items": null,
            "align_self": null,
            "border": null,
            "bottom": null,
            "display": null,
            "flex": null,
            "flex_flow": null,
            "grid_area": null,
            "grid_auto_columns": null,
            "grid_auto_flow": null,
            "grid_auto_rows": null,
            "grid_column": null,
            "grid_gap": null,
            "grid_row": null,
            "grid_template_areas": null,
            "grid_template_columns": null,
            "grid_template_rows": null,
            "height": null,
            "justify_content": null,
            "justify_items": null,
            "left": null,
            "margin": null,
            "max_height": null,
            "max_width": null,
            "min_height": null,
            "min_width": null,
            "object_fit": null,
            "object_position": null,
            "order": null,
            "overflow": null,
            "overflow_x": null,
            "overflow_y": null,
            "padding": null,
            "right": null,
            "top": null,
            "visibility": null,
            "width": null
          }
        },
        "ebc112e0c416477d80bd77e30de3a051": {
          "model_module": "@jupyter-widgets/controls",
          "model_name": "ProgressStyleModel",
          "model_module_version": "1.5.0",
          "state": {
            "_model_module": "@jupyter-widgets/controls",
            "_model_module_version": "1.5.0",
            "_model_name": "ProgressStyleModel",
            "_view_count": null,
            "_view_module": "@jupyter-widgets/base",
            "_view_module_version": "1.2.0",
            "_view_name": "StyleView",
            "bar_color": null,
            "description_width": ""
          }
        },
        "07b8fee4860543ffb9e6db9fe2208df2": {
          "model_module": "@jupyter-widgets/base",
          "model_name": "LayoutModel",
          "model_module_version": "1.2.0",
          "state": {
            "_model_module": "@jupyter-widgets/base",
            "_model_module_version": "1.2.0",
            "_model_name": "LayoutModel",
            "_view_count": null,
            "_view_module": "@jupyter-widgets/base",
            "_view_module_version": "1.2.0",
            "_view_name": "LayoutView",
            "align_content": null,
            "align_items": null,
            "align_self": null,
            "border": null,
            "bottom": null,
            "display": null,
            "flex": null,
            "flex_flow": null,
            "grid_area": null,
            "grid_auto_columns": null,
            "grid_auto_flow": null,
            "grid_auto_rows": null,
            "grid_column": null,
            "grid_gap": null,
            "grid_row": null,
            "grid_template_areas": null,
            "grid_template_columns": null,
            "grid_template_rows": null,
            "height": null,
            "justify_content": null,
            "justify_items": null,
            "left": null,
            "margin": null,
            "max_height": null,
            "max_width": null,
            "min_height": null,
            "min_width": null,
            "object_fit": null,
            "object_position": null,
            "order": null,
            "overflow": null,
            "overflow_x": null,
            "overflow_y": null,
            "padding": null,
            "right": null,
            "top": null,
            "visibility": null,
            "width": null
          }
        },
        "23e1da50960c402382cec300883ad844": {
          "model_module": "@jupyter-widgets/controls",
          "model_name": "DescriptionStyleModel",
          "model_module_version": "1.5.0",
          "state": {
            "_model_module": "@jupyter-widgets/controls",
            "_model_module_version": "1.5.0",
            "_model_name": "DescriptionStyleModel",
            "_view_count": null,
            "_view_module": "@jupyter-widgets/base",
            "_view_module_version": "1.2.0",
            "_view_name": "StyleView",
            "description_width": ""
          }
        }
      }
    }
  },
  "cells": [
    {
      "cell_type": "code",
      "execution_count": null,
      "metadata": {
        "id": "qQwGtLOsxGlK"
      },
      "outputs": [],
      "source": [
        "!pip install https://github.com/pyannote/pyannote-audio/archive/develop.zip\n",
        "!pip install speechbrain"
      ]
    },
    {
      "cell_type": "code",
      "source": [
        "# !pip install gdown\n",
        "# !gdown --id 1jwo0WQYdCBRBoo6C9J8XWYcmfYaOilAV"
      ],
      "metadata": {
        "id": "2wG1QcjKxJdS"
      },
      "execution_count": null,
      "outputs": []
    },
    {
      "cell_type": "code",
      "source": [
        "from pyannote.audio import Pipeline\n",
        "import speechbrain as sb\n",
        "pipeline = Pipeline.from_pretrained(\"pyannote/speaker-diarization\")"
      ],
      "metadata": {
        "colab": {
          "base_uri": "https://localhost:8080/",
          "height": 273,
          "referenced_widgets": [
            "2c965f0afe484e80a7d6fe397f5d46bd",
            "1e0c739d5f294dc5a30e703d56f0b546",
            "75ec6985ce6a407783f0e5598ed8f4ad",
            "127ef46cb71f48948d6b5eeac7f2c981",
            "3a5cd4e80e394c2681a0a7a267942327",
            "de4e354b5bfa4802b3234694a1972e9b",
            "ca9b72d95d654d54a3c359f6266e86f6",
            "66656a4a18524f22a0181ac6df6b438a",
            "c912751d7d394ed989dc9441f35ca9bc",
            "5507219f2340438f8ee35ea2f610002c",
            "cc7439c2ea57434ebec4ac0d7023be14",
            "d049146d0c1a49ab8581dd2d0b8db3aa",
            "b4b431c74197447e850c0f9bc6598185",
            "6fa1dfce97ea4471818499a8ab110d3f",
            "97e32e67c11e4f19a5f1b8ca75584577",
            "8e89c89d082f46aea96656340276c5be",
            "ddcc35c6eaf94ef49b3ee5c27ed413b0",
            "395e2af422a7478e921f8c3612b8fc3f",
            "4c685afc9d694614b56f53448634abcd",
            "cd31d6ebe53741c2b47df6236177264b",
            "27e39143a2c24556951a2da01a800110",
            "e34d34357e8c412daf3e6f2ef69c7c44",
            "2622711a20534d349eefc2c28318cb80",
            "affc4786dea94c10ad8d6940a08bf8d1",
            "4aaf6c7e0a4144948df0177231077984",
            "06759ff6091b4b3ab8b3f963a2d25e82",
            "9c21de55da2c485f923b5ee9eff02413",
            "4c14434d70e54e59b56718ec624b7e5c",
            "ad56c250484e426b881e30eae9fa42ec",
            "9b9a66b65556454dbbb0737ecf4f1bbb",
            "85d21a16f2f642278cf923facdc1f556",
            "f8036763774f49be93168d6d4646fda3",
            "767eb6e139c3459cb83fb52f45873314",
            "8a8e33e8cc0f4ff6819dca9183e98dd5",
            "db213b1188364b249538035256bcc92e",
            "d6756c63332b4f0d8ee5bcf1da395f70",
            "b0524b3fde6a47e2a0452c5835e3d297",
            "9cc1733c42ef4290b7789fdb020eeb66",
            "704ee5a4f3fb4c69b7f780adf63b8072",
            "99496f94e4984df4823da49c09224dde",
            "927b2d6987f5421289c1e22c2cbb76c2",
            "b3d0a9c09aec486fb8dc2d90585b0dc0",
            "03d0fec1b5a64f2d9969c21bcd8b850b",
            "0d96839d2c384725af8cd845b31dbb39",
            "90ce444e39b84e25b420c525bc172c63",
            "5af91b18e6bf44d3ba04cd10b4b80218",
            "c08b1ecb23794c32b25ee2160b22a869",
            "7951e9f0e71e451f9492b953c721fca4",
            "d5fefae6cad643618d3c7db4d4b7cd3a",
            "582c737efed2471fb4a122252315e0ad",
            "8483644645064332b611c7dd59faac8a",
            "914dcc97e86e45e7ae5b481f33a66fec",
            "9918d3dd0fab4bc8adf3a3a59891a43f",
            "7e4b3993745d48139df822f10f021ab9",
            "07dc988a15474cc0b176de428654e410",
            "b4e004f3fb724bff9c8a600c3b60cbe3",
            "4964b412526f42eba69e4f902d9d21d9",
            "ab0fa34479824bd0aa090de27f49b4ac",
            "8dece375f9fd47de87730e2dd0c2accb",
            "5820c7188d1640469a7b54a6d3fa0503",
            "df42a74095d94336bf69a2d494e4a8e8",
            "d52510e869a54f829c50335949e7bf42",
            "324a9b8cbd824a9085be4f1a14f91024",
            "6a0081f42b194974ab88b2ec2195d4e5",
            "ed7f1f3c57c645e29b43ed369b666f3e",
            "7c64ebe78e214a21a9d508d6a82bbe69",
            "61f09bf016614816b6d8cbbdf1c5a61f",
            "4c2a6a8a056c4d29a171dafb023350da",
            "24116fc398544fadab5cd7282bd7652f",
            "704fa8f36dd64da994159a0c64c6844f",
            "efa133ff6faa41eb9842e446689aa816",
            "a8f089eacb8c4a688178497c8ee211e5",
            "653d6debd68a461ba20d27f528b1e82c",
            "a88273b015b54443a9b48e3b865a5212",
            "9c3d7dc4515041d1a11e88f3f6a80562",
            "fc1ba0e295644083bdba59c33c267b19",
            "60240de1c96b4969ae814cb9cfdff0e1",
            "887be6d66a5849e9ad8e79940ab4f824",
            "97c93dca0e9449909a05e3c4fe0b100f",
            "0345c830ab9a428f9424ac6d35b3d611",
            "5b2456dfdf30428ebe5fe1a5a25e4d43",
            "c5ed0cf13e794d75bb97da4183aeb0b5",
            "3be35b34036a4e99a664664263b15afc",
            "3f2d74a37ea64681b8d58961df47cc86",
            "7df1d179aba1434f96943590feba8a51",
            "ebc112e0c416477d80bd77e30de3a051",
            "07b8fee4860543ffb9e6db9fe2208df2",
            "23e1da50960c402382cec300883ad844"
          ]
        },
        "id": "pOAq9qkNx2o9",
        "outputId": "454d942b-6ff0-4603-8e78-dae26af58b5e"
      },
      "execution_count": null,
      "outputs": [
        {
          "output_type": "display_data",
          "data": {
            "text/plain": [
              "Downloading:   0%|          | 0.00/489 [00:00<?, ?B/s]"
            ],
            "application/vnd.jupyter.widget-view+json": {
              "version_major": 2,
              "version_minor": 0,
              "model_id": "2c965f0afe484e80a7d6fe397f5d46bd"
            }
          },
          "metadata": {}
        },
        {
          "output_type": "display_data",
          "data": {
            "text/plain": [
              "Downloading:   0%|          | 0.00/17.7M [00:00<?, ?B/s]"
            ],
            "application/vnd.jupyter.widget-view+json": {
              "version_major": 2,
              "version_minor": 0,
              "model_id": "d049146d0c1a49ab8581dd2d0b8db3aa"
            }
          },
          "metadata": {}
        },
        {
          "output_type": "display_data",
          "data": {
            "text/plain": [
              "Downloading:   0%|          | 0.00/1.98k [00:00<?, ?B/s]"
            ],
            "application/vnd.jupyter.widget-view+json": {
              "version_major": 2,
              "version_minor": 0,
              "model_id": "2622711a20534d349eefc2c28318cb80"
            }
          },
          "metadata": {}
        },
        {
          "output_type": "display_data",
          "data": {
            "text/plain": [
              "Downloading:   0%|          | 0.00/1.92k [00:00<?, ?B/s]"
            ],
            "application/vnd.jupyter.widget-view+json": {
              "version_major": 2,
              "version_minor": 0,
              "model_id": "8a8e33e8cc0f4ff6819dca9183e98dd5"
            }
          },
          "metadata": {}
        },
        {
          "output_type": "display_data",
          "data": {
            "text/plain": [
              "Downloading:   0%|          | 0.00/83.3M [00:00<?, ?B/s]"
            ],
            "application/vnd.jupyter.widget-view+json": {
              "version_major": 2,
              "version_minor": 0,
              "model_id": "90ce444e39b84e25b420c525bc172c63"
            }
          },
          "metadata": {}
        },
        {
          "output_type": "display_data",
          "data": {
            "text/plain": [
              "Downloading:   0%|          | 0.00/1.92k [00:00<?, ?B/s]"
            ],
            "application/vnd.jupyter.widget-view+json": {
              "version_major": 2,
              "version_minor": 0,
              "model_id": "b4e004f3fb724bff9c8a600c3b60cbe3"
            }
          },
          "metadata": {}
        },
        {
          "output_type": "display_data",
          "data": {
            "text/plain": [
              "Downloading:   0%|          | 0.00/5.53M [00:00<?, ?B/s]"
            ],
            "application/vnd.jupyter.widget-view+json": {
              "version_major": 2,
              "version_minor": 0,
              "model_id": "61f09bf016614816b6d8cbbdf1c5a61f"
            }
          },
          "metadata": {}
        },
        {
          "output_type": "display_data",
          "data": {
            "text/plain": [
              "Downloading:   0%|          | 0.00/129k [00:00<?, ?B/s]"
            ],
            "application/vnd.jupyter.widget-view+json": {
              "version_major": 2,
              "version_minor": 0,
              "model_id": "887be6d66a5849e9ad8e79940ab4f824"
            }
          },
          "metadata": {}
        }
      ]
    },
    {
      "cell_type": "code",
      "source": [
        "!pip install SpeechRecognition"
      ],
      "metadata": {
        "id": "vSX0IwntyG6X",
        "colab": {
          "base_uri": "https://localhost:8080/"
        },
        "outputId": "147fb5be-f6d8-452d-8145-5eeba1047699"
      },
      "execution_count": null,
      "outputs": [
        {
          "output_type": "stream",
          "name": "stdout",
          "text": [
            "Looking in indexes: https://pypi.org/simple, https://us-python.pkg.dev/colab-wheels/public/simple/\n",
            "Collecting SpeechRecognition\n",
            "  Downloading SpeechRecognition-3.8.1-py2.py3-none-any.whl (32.8 MB)\n",
            "\u001b[K     |████████████████████████████████| 32.8 MB 1.4 MB/s \n",
            "\u001b[?25hInstalling collected packages: SpeechRecognition\n",
            "Successfully installed SpeechRecognition-3.8.1\n"
          ]
        }
      ]
    },
    {
      "cell_type": "code",
      "source": [
        "!pip install pyaudio"
      ],
      "metadata": {
        "id": "xg24yeeIzX-T",
        "colab": {
          "base_uri": "https://localhost:8080/"
        },
        "outputId": "2cd447bc-dc69-40aa-91d7-7b2a8070995b"
      },
      "execution_count": null,
      "outputs": [
        {
          "output_type": "stream",
          "name": "stdout",
          "text": [
            "Looking in indexes: https://pypi.org/simple, https://us-python.pkg.dev/colab-wheels/public/simple/\n",
            "Collecting pyaudio\n",
            "  Downloading PyAudio-0.2.11.tar.gz (37 kB)\n",
            "Building wheels for collected packages: pyaudio\n",
            "  Building wheel for pyaudio (setup.py) ... \u001b[?25lerror\n",
            "\u001b[31m  ERROR: Failed building wheel for pyaudio\u001b[0m\n",
            "\u001b[?25h  Running setup.py clean for pyaudio\n",
            "Failed to build pyaudio\n",
            "Installing collected packages: pyaudio\n",
            "    Running setup.py install for pyaudio ... \u001b[?25l\u001b[?25herror\n",
            "\u001b[31mERROR: Command errored out with exit status 1: /usr/bin/python3 -u -c 'import io, os, sys, setuptools, tokenize; sys.argv[0] = '\"'\"'/tmp/pip-install-e2epzwpc/pyaudio_eb925e3744ad4d098818cb31efe6e0af/setup.py'\"'\"'; __file__='\"'\"'/tmp/pip-install-e2epzwpc/pyaudio_eb925e3744ad4d098818cb31efe6e0af/setup.py'\"'\"';f = getattr(tokenize, '\"'\"'open'\"'\"', open)(__file__) if os.path.exists(__file__) else io.StringIO('\"'\"'from setuptools import setup; setup()'\"'\"');code = f.read().replace('\"'\"'\\r\\n'\"'\"', '\"'\"'\\n'\"'\"');f.close();exec(compile(code, __file__, '\"'\"'exec'\"'\"'))' install --record /tmp/pip-record-gteb70q3/install-record.txt --single-version-externally-managed --compile --install-headers /usr/local/include/python3.7/pyaudio Check the logs for full command output.\u001b[0m\n"
          ]
        }
      ]
    },
    {
      "cell_type": "code",
      "source": [
        "!pip install --upgrade google-cloud-speech"
      ],
      "metadata": {
        "id": "imluRC-NzcRy"
      },
      "execution_count": null,
      "outputs": []
    },
    {
      "cell_type": "code",
      "source": [
        "!pip install pydub"
      ],
      "metadata": {
        "colab": {
          "base_uri": "https://localhost:8080/"
        },
        "id": "9kmT2b8W0B2r",
        "outputId": "b64eb0d3-5408-473d-f272-3ca59338ddd4"
      },
      "execution_count": null,
      "outputs": [
        {
          "output_type": "stream",
          "name": "stdout",
          "text": [
            "Looking in indexes: https://pypi.org/simple, https://us-python.pkg.dev/colab-wheels/public/simple/\n",
            "Collecting pydub\n",
            "  Downloading pydub-0.25.1-py2.py3-none-any.whl (32 kB)\n",
            "Installing collected packages: pydub\n",
            "Successfully installed pydub-0.25.1\n"
          ]
        }
      ]
    },
    {
      "cell_type": "code",
      "source": [
        "from pydub import AudioSegment\n",
        "import os\n",
        "from pydub.playback import play"
      ],
      "metadata": {
        "id": "Td4X2Ghj4q40"
      },
      "execution_count": null,
      "outputs": []
    },
    {
      "cell_type": "code",
      "source": [
        "from google.colab import drive\n",
        "drive.mount('/content/drive')"
      ],
      "metadata": {
        "colab": {
          "base_uri": "https://localhost:8080/"
        },
        "id": "NWZMezmZ5NU7",
        "outputId": "a57cb0da-e3f4-45a4-ada4-0a912fe9d38d"
      },
      "execution_count": null,
      "outputs": [
        {
          "output_type": "stream",
          "name": "stdout",
          "text": [
            "Mounted at /content/drive\n"
          ]
        }
      ]
    },
    {
      "cell_type": "code",
      "source": [
        "%cd /content/drive/MyDrive/STECH/Speech-To-Text"
      ],
      "metadata": {
        "colab": {
          "base_uri": "https://localhost:8080/"
        },
        "id": "iiNJViVP5c9m",
        "outputId": "217fc33b-46d9-488d-cfa7-c12e15b3fa39"
      },
      "execution_count": null,
      "outputs": [
        {
          "output_type": "stream",
          "name": "stdout",
          "text": [
            "/content/drive/MyDrive/STECH/Speech-To-Text\n"
          ]
        }
      ]
    },
    {
      "cell_type": "code",
      "source": [
        "path = '/content/drive/MyDrive/STECH/Speech-To-Text'"
      ],
      "metadata": {
        "id": "d-P6WY1j7okt"
      },
      "execution_count": null,
      "outputs": []
    },
    {
      "cell_type": "code",
      "source": [
        "# diarization = pipeline('Họp báo Chính phủ thường kỳ tháng 4_2021 _ VTC Now.wav')"
      ],
      "metadata": {
        "id": "cE3K0ebc7OBC"
      },
      "execution_count": null,
      "outputs": []
    },
    {
      "cell_type": "code",
      "source": [
        "def diarization_pipeline(audio):\n",
        "  return pipeline(audio)\n",
        "diarization = diarization_pipeline('Họp báo Chính phủ thường kỳ tháng 4_2021 _ VTC Now.wav')"
      ],
      "metadata": {
        "id": "J6j0bmw7X-Kr"
      },
      "execution_count": null,
      "outputs": []
    },
    {
      "cell_type": "code",
      "source": [
        "for turn, _, speaker in diarization.itertracks(yield_label=True):\n",
        "    print(f\"start={turn.start:.1f}s stop={turn.end:.1f}s speaker_{speaker}\")"
      ],
      "metadata": {
        "id": "JWZz9mWN8WhR"
      },
      "execution_count": null,
      "outputs": []
    },
    {
      "cell_type": "code",
      "source": [
        "def diarization_itertracks(starts, stops, labels):\n",
        "  for segment, track, label in diarization.itertracks(yield_label=True):\n",
        "    starts.append(segment.start)\n",
        "    stops.append(segment.end)\n",
        "    labels.append(label)\n",
        "  return starts, stops, labels"
      ],
      "metadata": {
        "id": "AROkv28IYQKU"
      },
      "execution_count": null,
      "outputs": []
    },
    {
      "cell_type": "code",
      "source": [
        "starts = []\n",
        "stops = []\n",
        "labels= []\n",
        "\n",
        "for segment,track,label in diarization.itertracks(yield_label=True):\n",
        "  starts.append((segment.start))\n",
        "  stops.append(segment.end)\n",
        "  labels.append(label)\n",
        "print(starts)\n",
        "print(stops)\n",
        "print(labels)"
      ],
      "metadata": {
        "colab": {
          "base_uri": "https://localhost:8080/"
        },
        "id": "bfv5h0MO9_uS",
        "outputId": "af9cb987-a146-4803-8bee-f1cb8c4301eb"
      },
      "execution_count": null,
      "outputs": [
        {
          "output_type": "stream",
          "name": "stdout",
          "text": [
            "[0.2578125000000001, 2.130937500000001, 3.2446875000000004, 7.1596875, 9.336562500000003, 11.024062500000003, 14.534062500000001, 18.4828125, 23.8321875, 31.814062500000002, 43.7953125, 60.096562500000005, 73.4109375, 75.3009375, 77.1909375, 86.38781250000001, 97.0696875, 98.63906250000001, 100.6303125, 114.23156250000001, 116.30718750000001, 121.96031250000001, 123.4115625, 124.76156250000001, 126.06093750000001, 132.15281249999998, 138.7678125, 151.2553125, 152.74031250000002, 159.03468750000002, 163.9115625, 166.4090625, 171.20156250000002, 173.5809375, 182.87906249999997, 184.14468749999997, 185.2415625, 186.32156249999997, 187.8234375, 194.0334375, 202.80843750000003, 209.2546875, 214.6040625, 219.71718750000002, 221.89406250000002, 226.43343750000003, 228.7790625, 235.9846875, 239.2415625, 240.15281249999998, 242.75156249999998, 245.90718750000002, 260.04843750000003, 264.9590625, 266.1234375, 267.4903125, 274.03781250000003, 281.42906250000004, 290.84531250000003, 292.39781250000004, 294.3046875, 295.3678125, 299.3671875, 303.07968750000003, 325.8778125, 330.04593750000004, 337.7746875, 340.20468750000003, 351.59531250000003, 356.3540625, 369.24656250000004, 375.4903125, 379.05093750000003, 391.15031250000004, 398.38968750000004, 405.1228125, 407.08031250000005, 412.8684375, 419.12906250000003, 426.87468750000005, 429.37218750000005, 430.4690625, 435.4303125, 443.1928125, 451.15781250000003, 453.75656250000003, 455.7140625, 457.4690625, 459.6459375, 462.1434375, 465.14718750000003, 467.50968750000004, 470.7328125, 473.87156250000004, 484.3340625, 485.3465625, 487.01718750000003, 493.3284375, 494.8809375, 500.21343750000005, 505.6809375, 510.37218750000005, 523.9734375, 532.7484375, 534.8071875, 538.1821875, 542.4178125000001, 544.6453125, 547.3959375000001, 553.6396875, 559.9340625, 564.4734375, 568.9621875, 571.8815625000001, 577.7709375000001, 591.3046875, 597.8353125, 600.9234375000001, 606.5934375, 611.4028125000001, 614.5921875, 621.4434375000001, 622.4390625000001, 633.4921875, 641.8115625, 643.3134375000001, 644.8828125, 650.0296875, 655.0078125, 658.9734375, 659.7328125, 660.8971875000001, 664.0696875000001, 665.3690625, 676.0171875000001, 678.5653125, 681.9571875, 683.1721875000001, 689.8884375, 696.7734375, 701.2453125000001, 710.2734375, 715.7915625, 724.7015625, 726.2034375000001, 727.1821875, 728.4984375, 737.1721875000001, 740.1253125000001, 748.1915625, 749.4571875, 754.9753125000001, 756.2409375000001, 760.5271875000001, 768.2728125000001, 775.6978125, 776.8621875, 780.8615625000001, 786.0928125, 789.2653125, 796.6228125, 806.8996875, 813.1771875000001, 814.3753125000001, 817.4971875000001, 821.0915625, 824.2978125000001, 825.4621875, 832.5159375000001, 833.9165625, 835.9921875, 839.7046875000001, 842.0334375000001, 843.2990625000001, 846.1678125000001, 848.5471875000001, 853.5084375, 860.7309375000001, 863.0596875000001, 868.1728125000001, 872.6615625000001, 878.3484375, 880.7953125, 883.6978125, 897.9909375000001, 904.1165625000001, 921.9871875, 923.1684375000001, 938.3728125, 944.4478125, 961.0865625, 964.7484375, 984.7284375, 993.9590625000001, 998.2790625, 1001.9915625000001, 1007.6953125000001, 1008.5053125000001, 1009.7034375000001, 1013.4159375, 1028.2659375000003, 1032.6028125000003, 1049.6465625, 1057.9828125000004, 1062.9440625000002, 1069.9809375, 1076.7309375, 1086.7715625, 1091.1590625000003, 1095.1753125, 1098.3815625000002, 1101.1659375000004, 1102.5665625000001, 1112.1009375000003, 1114.0415625, 1118.4290625000003, 1121.2303125000003, 1123.8121875000002, 1125.9215625000002, 1128.9590625, 1139.6240625, 1142.4590625, 1144.1465625, 1151.4028125, 1152.4490625000003, 1154.3728125000002, 1156.2796875000004, 1157.2753125000004, 1162.1859375000004, 1183.1615625000004, 1185.3721875, 1187.1271875000002, 1189.1184375000003, 1191.8690625000004, 1195.2271875000001, 1212.5071875000003, 1243.1015625, 1247.5396875000001, 1258.0190625, 1291.1109375, 1293.2878125000002, 1299.4471875000004, 1300.0546875, 1303.1596875, 1335.2390625000003, 1338.8165625000001, 1340.4365625, 1341.3646875000004, 1342.6303125000004, 1345.8365625000001, 1348.2496875000002, 1351.2028125000002, 1397.1703125000004, 1400.1234375000004, 1400.6128125, 1402.2665625000004, 1405.7934375, 1409.3878125, 1410.1640625, 1415.9690625000003, 1417.6228125000002, 1420.8290625000004, 1453.8196875000003, 1458.7134375, 1461.7340625000002, 1534.4653125000004, 1537.4521875, 1541.5696875000003, 1544.8434375000002, 1570.3415625000002, 1571.2021875, 1572.9909375000002, 1576.7709375000004, 1610.5040625000001, 1614.9421875000003, 1638.3478125000001, 1645.1146875000004, 1652.4721875, 1655.4590625, 1658.2940625, 1663.3903125000002, 1668.1490625000001, 1670.9165625, 1675.5403125000003, 1681.9696875000004, 1684.1465625, 1690.2384375000001, 1694.5584375000003, 1696.4484375000002, 1703.9915625000003, 1705.2403125, 1707.8221875000004, 1709.4421875000003, 1711.5853125000003, 1717.2384375000001, 1721.1703125000004, 1725.0346875, 1726.8403125000004, 1727.7346875000003, 1728.8821875000003, 1741.7578125000005, 1745.3690625000004, 1748.2040625000004, 1750.0434375000004, 1752.2709375000004, 1753.8571875000002, 1758.7678125000002, 1760.2359375, 1764.3196875000003, 1766.2096875000002, 1769.2809375000002, 1770.6646875000001, 1772.6390625000004, 1773.9046875000004, 1775.2715625, 1779.8446875000004, 1786.0546875000005, 1794.4921875000005, 1801.0903125000004, 1806.1865625, 1808.5490625000002, 1813.3415625000002, 1815.4340625000004, 1817.6784375000002, 1819.2646875, 1823.5003125000003, 1827.2296875000002, 1829.6090625000002, 1831.9884375000001, 1834.8065625000004, 1838.3503125000002, 1839.9028125000004, 1843.8346875000002, 1844.7965625000002, 1845.4884375000001, 1847.0071875000003, 1848.3740625, 1853.5715625000003, 1855.0228125000003, 1856.1196875, 1859.4440625000002, 1863.2746875000003, 1864.8103125000002, 1870.9528125000002, 1873.9565625, 1881.5165625000004, 1890.5615625, 1893.3290625000004, 1896.0459375, 1898.8303125000002, 1901.6315625000002, 1907.0653125000003, 1916.8528125000003, 1924.2609375000002, 1927.3321875000001, 1928.4628125000004, 1930.9434375, 1931.7534375, 1935.3140625, 1940.6128125, 1944.8484375000003, 1946.7215625000003, 1952.1721875000003, 1955.2603125, 1957.7746875000003, 1961.3521875000001, 1964.4740625000004, 1968.3384375, 1974.9028125000004, 1978.5140625000004, 1981.9396875000002, 1998.2240625000004, 2006.4590625, 2007.4209375, 2008.7540625000001, 2009.5978125000001, 2011.8759375000004, 2013.2765625000002, 2016.4659375, 2034.9946875, 2055.6328125, 2068.5421875, 2110.8309375, 2113.7671874999996, 2121.6815625, 2125.5121874999995, 2132.0596875, 2133.5953124999996, 2135.4178125, 2137.5271875, 2139.7040625, 2141.9821875, 2149.2553124999995, 2154.8240625, 2156.5959375, 2160.6965625000003, 2161.7090625, 2163.8353125000003, 2177.9596874999997, 2179.1578124999996, 2185.2834375, 2187.2915624999996, 2190.0759375, 2193.9403125, 2198.1421874999996, 2200.4878124999996, 2201.6690625, 2203.1709375, 2204.9934375000003, 2207.4740624999995, 2216.9071875, 2224.2478125, 2228.9559375, 2237.2078125, 2238.9290625000003, 2240.4140625, 2241.7303125, 2245.0040625, 2247.9403125, 2254.8759375, 2256.8165625, 2260.0228125000003, 2265.6421874999996, 2268.2240624999995, 2271.0253125, 2275.0415624999996, 2280.5596875, 2282.4159375, 2284.0528125, 2287.8665625000003, 2290.3640625, 2291.8996875000003, 2297.4515625000004, 2300.1346875, 2301.4678125, 2303.5434374999995, 2306.5303125, 2307.3403124999995, 2308.1165625000003, 2311.0865624999997, 2312.4365625, 2315.7103125000003, 2317.5496875, 2320.7053125, 2324.9409374999996, 2328.2484375000004, 2332.1296875, 2338.2721874999997, 2341.8834374999997, 2350.6078125000004, 2357.0709374999997, 2360.5471875000003, 2361.3065625, 2362.5721875, 2383.0078125, 2384.6953125, 2406.1771874999995, 2406.9365625, 2408.6915625, 2421.8709375, 2442.9646875, 2452.2290624999996, 2481.3215625000003, 2492.1721875000003, 2506.4146874999997, 2533.1446875, 2536.4184374999995, 2545.9696875, 2559.2840625, 2573.1046875, 2578.0490625, 2581.2046874999996, 2583.8878125, 2586.3853124999996, 2588.1909374999996, 2591.6840624999995, 2594.0803125, 2596.8815624999997, 2597.2696875, 2602.3490624999995, 2609.0484374999996, 2610.0609375000004, 2612.1196874999996, 2614.0940625000003, 2614.4990625, 2623.7296875, 2625.9909374999997, 2628.6234375000004, 2634.4621875000003, 2639.5753125, 2640.7734375, 2646.8315624999996, 2651.4384375, 2655.0834375000004, 2659.4709375, 2660.8040625000003, 2664.2971875000003, 2672.0765625000004, 2673.5109375, 2676.5990625000004, 2684.6821874999996, 2686.4540625, 2687.9896875000004, 2690.9090625, 2696.4778125000003, 2701.4221875000003, 2715.6984375, 2716.6096875000003, 2717.9090625, 2719.2084375000004, 2723.7815625000003, 2727.9328125, 2729.9240625, 2735.9315625, 2745.2803125, 2748.1828125, 2749.2628125, 2751.3721875, 2758.0715625000003, 2763.2859375, 2767.4709375, 2771.5040625, 2777.4103125, 2781.1228125, 2786.3709375, 2790.6740625, 2797.4578125, 2799.5334375, 2805.2034375000003, 2807.1440624999996, 2809.8609374999996, 2813.2528125, 2816.4421875, 2817.4378125000003, 2818.3828125, 2820.7115624999997, 2824.6265624999996, 2826.1284374999996, 2829.3346874999997, 2837.2490625, 2838.9196875, 2847.2559375, 2851.4578125, 2863.1859375000004, 2868.0965625, 2870.3409375, 2872.9396875, 2877.0065624999997, 2879.4196875, 2886.1359375, 2890.0171874999996, 2891.6540625, 2895.3159374999996, 2897.1384375, 2901.9646875, 2911.5159375000003, 2914.3509375000003, 2915.0765625000004, 2916.7809374999997, 2919.8015625, 2927.0409375, 2929.3359375, 2933.6896875, 2942.5996875, 2952.5896875, 2956.2853125, 2958.6984375, 2961.8203125, 2964.9590625, 2967.0684375, 2970.7640625000004, 2974.2065624999996, 2978.1215624999995, 2984.3821875000003, 2988.4490625, 2991.0815624999996, 2999.9071875, 3002.4721874999996, 3004.2609375, 3008.3784374999996, 3012.3440625000003, 3017.1534375, 3022.3509375000003, 3025.4728125, 3034.1971875, 3037.2684375, 3043.3265625000004, 3045.3853124999996, 3047.3934375, 3048.7434375000003, 3052.1184375000003, 3057.5353125, 3059.7290624999996, 3065.2471875, 3069.1790625000003, 3070.2421875, 3073.7690624999996, 3077.7346875000003, 3087.6403124999997, 3091.8253125, 3095.2003125, 3100.0096875, 3101.0896875, 3104.1440624999996, 3105.9834375, 3108.4303124999997, 3109.7971875000003, 3111.3328125, 3114.2015625000004, 3117.3065625, 3118.6059374999995, 3120.7828124999996, 3135.0759375, 3137.9109375, 3142.0284375, 3144.9140625, 3151.1240625, 3154.8871874999995, 3158.2959375, 3160.9959375, 3166.8178125000004, 3171.7621874999995, 3178.2590625000003, 3181.4990625, 3185.7009375, 3188.3840625000003, 3197.9859374999996, 3202.8796875, 3204.4659375, 3207.1153125, 3214.3884375, 3216.4978125, 3220.1934375, 3221.8471874999996, 3224.7159375, 3227.6184375000003, 3238.8065625, 3242.2490625, 3245.8265625000004, 3248.5434375000004, 3250.5515625, 3252.7115624999997, 3261.0646875, 3269.4178125, 3274.9865625, 3279.4246875, 3283.0021875, 3285.8203125, 3292.1990625, 3294.6121875, 3297.1434375, 3299.1515625, 3302.7459375, 3304.1634375000003, 3305.9184375000004, 3307.5721875, 3321.4265625, 3329.0371875, 3340.3434374999997, 3349.0003125000003, 3350.5865624999997, 3353.0165625, 3367.7990625, 3381.8221875, 3384.7078125, 3391.1371875000004, 3399.0009375, 3408.3496875]\n",
            "[1.5740625000000001, 2.7384375000000007, 6.0121875, 8.779687500000001, 10.028437500000003, 13.285312500000003, 17.1159375, 23.275312500000002, 30.008437500000003, 42.8334375, 59.556562500000005, 71.7065625, 74.7103125, 77.0390625, 85.8646875, 95.61843750000001, 98.5040625, 100.3940625, 112.47656250000001, 115.5815625, 120.0028125, 122.7871875, 124.15406250000001, 125.63906250000001, 131.79843749999998, 138.02531249999998, 149.65218749999997, 151.94718749999998, 158.64656250000002, 163.5571875, 165.71718750000002, 170.99906249999998, 172.5853125, 182.59218750000002, 183.8071875, 184.80281250000002, 185.7815625, 187.1484375, 193.4428125, 200.5471875, 208.1746875, 214.0809375, 218.8228125, 221.26968749999997, 225.9946875, 227.73281250000002, 235.29281250000003, 238.46531249999998, 239.8153125, 242.1271875, 244.96218750000003, 258.32718750000004, 264.8240625, 265.6509375, 266.7478125, 273.2278125, 280.0284375, 290.49093750000003, 291.7396875, 293.79843750000003, 295.0471875, 298.40531250000004, 302.52281250000004, 323.7009375, 329.3540625, 337.2684375, 339.3778125, 350.4984375, 355.6284375, 367.9640625, 374.95031250000005, 377.4309375, 390.13781250000005, 397.7484375, 404.5321875, 406.79343750000004, 411.33281250000005, 417.40781250000003, 426.3178125, 428.56218750000005, 430.18218750000005, 434.78906250000006, 442.87218750000005, 449.92593750000003, 452.9803125, 454.6340625, 456.96281250000004, 458.78531250000003, 461.5528125, 464.6071875, 466.7503125, 469.26468750000004, 472.6903125, 483.01781250000005, 485.0090625, 486.32531250000005, 492.61968750000005, 494.3915625, 499.25156250000003, 505.30968750000005, 508.60031250000003, 521.8809375000001, 532.1746875, 534.0815625, 536.9503125, 541.3040625, 543.9196875, 546.2484375, 552.1715625, 559.1240625, 563.6971875, 568.1859375, 571.2740625, 577.2140625000001, 590.1740625, 596.9578125, 599.3203125, 605.4965625000001, 610.0696875, 614.2209375, 620.7178125, 622.0171875000001, 632.7159375, 641.1196875, 643.1953125, 644.3090625000001, 648.5784375000001, 654.8896875, 658.2309375000001, 659.3784375, 660.5090625, 663.7153125000001, 664.9978125, 675.1059375000001, 677.1984375000001, 681.5690625000001, 682.5646875, 689.6521875000001, 696.6215625000001, 700.4859375000001, 708.1809375, 714.6778125000001, 723.9759375000001, 725.8659375000001, 726.8953125, 728.0765625, 735.6365625000001, 739.3321875, 747.3984375, 749.0184375, 754.3171875, 755.4478125, 759.7340625, 767.3109375, 773.8584375, 776.3728125, 779.9165625, 785.4853125000001, 788.7084375000001, 794.6484375, 806.4103125, 812.7046875000001, 813.7678125000001, 817.3621875, 820.7203125000001, 823.5215625000001, 825.1078125, 830.9634375, 833.2921875000001, 835.5028125, 839.1984375000001, 841.3921875000001, 843.0628125000001, 845.6109375000001, 847.6528125000001, 852.9853125000001, 860.3596875000001, 861.2203125000001, 867.6496875, 872.3578125, 877.1165625000001, 880.5759375, 883.3096875000001, 896.3709375000001, 904.0153125, 920.7890625000001, 922.5271875000001, 938.0015625000001, 942.2371875000001, 959.1459375000001, 964.0734375000001, 981.5559375, 993.3346875000001, 997.3003125, 1000.9621875, 1007.1046875000001, 1008.1171875000001, 1009.1971875, 1012.6228125000001, 1027.5234375, 1032.2821875, 1048.6846875, 1056.8015625000003, 1062.8090625, 1069.8796875000003, 1076.1234375000004, 1085.9446875000003, 1090.8384375, 1094.7871875, 1098.0103125, 1099.1409375000003, 1101.6384375000002, 1111.5440625, 1113.9234375, 1117.5684375, 1119.9309375000003, 1122.3271875, 1125.7190625000003, 1128.3853125, 1138.8815625000002, 1142.0034375, 1143.4715625000003, 1151.1328125, 1152.1959375000001, 1153.5628125000003, 1155.3515625, 1156.8703125000002, 1161.2409375000002, 1182.4190625, 1184.0728125, 1186.6546875000004, 1188.4434375, 1191.0590625, 1194.8221875000004, 1202.4328125000002, 1238.5284375, 1247.2190625000003, 1290.0140625000004, 1258.2384375000001, 1292.2078125000003, 1298.2321875000002, 1299.7509375000004, 1302.6703125000004, 1335.2390625000003, 1336.4034375, 1339.8965625, 1341.0609375000004, 1342.2421875, 1343.6090625000002, 1346.4440625000002, 1397.0690625000002, 1352.1140625000003, 1398.0478125000004, 1400.2584375000001, 1401.9628125000004, 1402.9584375000004, 1408.9321875, 1410.1640625, 1415.9690625000003, 1417.1165625000003, 1420.8290625000004, 1453.7015625000004, 1457.6671875000002, 1459.9790625, 1534.4653125000004, 1535.6128125, 1541.2321875000002, 1542.1771875000004, 1570.1390625000004, 1570.8140625, 1572.8053125000001, 1575.5390625, 1610.0653125000003, 1614.5709375000001, 1631.8340625, 1640.8959375000004, 1651.4934375000003, 1654.4296875, 1657.7709375000004, 1662.7828125, 1667.7946875000002, 1669.9715625000003, 1674.1228125000002, 1680.4003125000004, 1683.1678125000003, 1689.4453125, 1693.0396875000001, 1696.0771875, 1703.3503125000002, 1704.9365625, 1705.9996875000002, 1708.3790625000001, 1711.1803125000001, 1716.4790625, 1720.3940625, 1724.1403125000002, 1725.4396875000002, 1727.5996875, 1728.5446875000002, 1739.5471875000003, 1744.4240625000002, 1747.2928125000003, 1749.7565625000002, 1751.9334375000003, 1753.7053125000002, 1758.3965625, 1759.5778125000002, 1762.6659375000004, 1765.3996875000003, 1769.1796875000005, 1770.4621875000003, 1772.0821875000001, 1773.1284375, 1774.8328125000003, 1775.9803125000003, 1784.9409375, 1793.4628125000004, 1799.9090625000003, 1804.9546875, 1807.7896875000001, 1811.2996875000003, 1814.1009375000003, 1817.2734375000005, 1818.9946875, 1822.8253125, 1825.7784375, 1828.8834375000001, 1831.1784375000002, 1833.5240625000001, 1837.4728125000001, 1838.9915625000003, 1840.6790625000003, 1844.4253125, 1845.2353125000004, 1846.1634375000003, 1847.9184375000004, 1852.9809375000004, 1854.7190625000003, 1855.8496875, 1858.5328125, 1862.4309375000003, 1864.2028125000002, 1870.6659375000004, 1872.8765625, 1880.4703125, 1889.9371875000002, 1892.7721875000002, 1895.3878125, 1898.0540625000003, 1900.9903125, 1905.6984375000002, 1916.1609375000003, 1923.6534375, 1926.4378125000003, 1928.3615625000002, 1929.3403125000004, 1931.3821875000003, 1934.0315625000003, 1939.8871875000004, 1944.3590625000002, 1946.5021875000002, 1952.0203125000003, 1954.6696875000002, 1957.3359375000005, 1960.5928125, 1963.5459375, 1967.5284375, 1974.6328125000005, 1978.2103125000003, 1981.0790625000004, 1997.3634375000001, 2005.1259375000004, 2006.9484375000002, 2008.2815625000003, 2009.3446875000004, 2011.5215625, 2012.8040625000003, 2016.2971875000003, 2034.1509375, 2054.4853125, 2068.2215625, 2112.9403125, 2111.4215624999997, 2120.8546875, 2124.8203125, 2130.9459374999997, 2133.2071875, 2134.3209374999997, 2137.9828125000004, 2137.6284374999996, 2140.9528124999997, 2149.1203125, 2153.2209375, 2155.7015625000004, 2160.2746875000003, 2161.2365625, 2162.0634375, 2175.9009374999996, 2178.5334375, 2185.1653125000003, 2186.9034375, 2188.5234375, 2193.8221875, 2197.7203124999996, 2199.9815625, 2201.3653125, 2202.2934374999995, 2204.3521874999997, 2205.7696875, 2212.9753124999997, 2223.6234375000004, 2226.5090625000003, 2236.4484375, 2237.7984374999996, 2240.0090625000003, 2241.2240624999995, 2243.4684374999997, 2246.5903124999995, 2254.2853125, 2255.6353124999996, 2258.3521874999997, 2264.2921875, 2267.3128125000003, 2269.6415625, 2273.7590625000003, 2279.9015625, 2281.3528125000003, 2283.0403125000003, 2286.5503124999996, 2289.5371875, 2291.7478125, 2296.8103125, 2299.2234375, 2300.8096875, 2302.3790625, 2305.5346874999996, 2307.0196875, 2307.9478124999996, 2309.9896874999995, 2312.2509375, 2314.9003125, 2316.5371875, 2320.0134375, 2324.5021875, 2327.1178124999997, 2331.2353125, 2336.3653125, 2341.3434374999997, 2342.4234374999996, 2355.8221875, 2360.4459374999997, 2360.9353125, 2362.3190624999997, 2382.7209375, 2383.4803125, 2405.8903124999997, 2406.6665624999996, 2407.7296875, 2420.3015625, 2442.2896874999997, 2451.8746874999997, 2480.6634375000003, 2490.9909374999997, 2506.1109374999996, 2531.5584375, 2536.3003124999996, 2545.5815624999996, 2559.1828125, 2572.6321875000003, 2577.4415625, 2580.3440625000003, 2582.8753125000003, 2586.1321875000003, 2587.3640625, 2590.9921875, 2593.6246874999997, 2596.5440625, 2597.0334375, 2601.3365624999997, 2608.2215625, 2609.2509375, 2611.6303124999995, 2622.5821875, 2614.1784374999997, 2614.8365624999997, 2624.5396874999997, 2627.8303125, 2632.7240625000004, 2638.4278125, 2640.5878125, 2645.9371874999997, 2651.2865625000004, 2653.4296875, 2658.3740625, 2659.9434375, 2663.4534375000003, 2671.7221874999996, 2673.0553124999997, 2674.7934374999995, 2681.8640625, 2685.6271875, 2687.7028124999997, 2690.0315625000003, 2695.3640625, 2699.4646875, 2713.8084375, 2716.4578125, 2717.1665624999996, 2718.9384375, 2722.2121875000003, 2727.8146875, 2729.2659375000003, 2744.7403125, 2736.2184374999997, 2747.7609375, 2749.1615625000004, 2750.9671875000004, 2757.7171875000004, 2763.0665625, 2766.1715624999997, 2771.0821875, 2775.9590625, 2780.7515624999996, 2784.9365625, 2789.9315625, 2797.2553125000004, 2798.7909375, 2803.7015625000004, 2805.7940625, 2808.7303125, 2812.6284374999996, 2815.9696875, 2817.1003124999997, 2817.9271875000004, 2820.0028125, 2824.5253125, 2825.7909375, 2828.3559374999995, 2836.8778125, 2838.3121874999997, 2845.8721875, 2848.9265625, 2858.5115625, 2867.2021875, 2869.9528124999997, 2871.6571875, 2875.9096874999996, 2878.4071875, 2885.4440624999997, 2889.7134374999996, 2891.0971874999996, 2894.9278125, 2896.4803125, 2901.0703125, 2911.2290624999996, 2913.0684375, 2914.9078124999996, 2916.5278124999995, 2918.2828124999996, 2926.6190625, 2929.1165625000003, 2932.8121874999997, 2941.8065625, 2952.2521875, 2954.1928125000004, 2958.1246874999997, 2961.1115625, 2964.3684375000003, 2966.7815625000003, 2969.2959375, 2973.4303124999997, 2976.9740625000004, 2982.6103125, 2987.3015625, 2990.7103125000003, 2998.9115625000004, 3002.2696875, 3003.5690624999997, 3008.1253125000003, 3011.2303125, 3016.5628125000003, 3020.5790625, 3025.1015625, 3033.0665625, 3036.9984375000004, 3042.8034374999997, 3044.0690624999997, 3046.4484375, 3048.4565624999996, 3051.5109375, 3056.4890625, 3058.7840625, 3063.1884375, 3068.9765625, 3069.8371875000003, 3072.6721875000003, 3076.9921875, 3087.0496875, 3090.7453125, 3093.6140625, 3098.0859375, 3100.9884375, 3102.7771875, 3105.4096874999996, 3107.6034375, 3108.8690625, 3111.1134375, 3112.5984375, 3116.6146875000004, 3118.0828125, 3119.9390624999996, 3134.8059375000003, 3137.0165625, 3140.7459375, 3144.0365625000004, 3149.8246874999995, 3153.9084375, 3157.5365625000004, 3159.9496874999995, 3165.2315625, 3170.9353125, 3177.0778124999997, 3181.2459375, 3183.8109375000004, 3187.4390624999996, 3197.8340625, 3202.6265624999996, 3204.0440625, 3206.0690624999997, 3213.2915624999996, 3215.4346875, 3219.0965625, 3220.9696875, 3223.8890625000004, 3225.6440624999996, 3236.4609375, 3242.1478125000003, 3245.1178124999997, 3246.9571875, 3250.4165624999996, 3251.6146875000004, 3259.1578124999996, 3267.8653125, 3273.7040625, 3279.1884375, 3282.1921875, 3284.2340624999997, 3291.4396875, 3293.7178125, 3296.5021875, 3298.4934375000003, 3302.3240625, 3303.4378125000003, 3305.4459374999997, 3306.9140625, 3320.8021875000004, 3328.7165625, 3340.0903125000004, 3348.0215625, 3349.9621875000003, 3352.8646875000004, 3366.4321874999996, 3380.8096875, 3384.5053125000004, 3389.9390624999996, 3397.1615625000004, 3407.8603125, 3415.6734374999996]\n",
            "['SPEAKER_02', 'SPEAKER_02', 'SPEAKER_02', 'SPEAKER_02', 'SPEAKER_02', 'SPEAKER_02', 'SPEAKER_02', 'SPEAKER_02', 'SPEAKER_02', 'SPEAKER_02', 'SPEAKER_02', 'SPEAKER_02', 'SPEAKER_02', 'SPEAKER_02', 'SPEAKER_02', 'SPEAKER_02', 'SPEAKER_02', 'SPEAKER_02', 'SPEAKER_02', 'SPEAKER_02', 'SPEAKER_02', 'SPEAKER_02', 'SPEAKER_02', 'SPEAKER_02', 'SPEAKER_02', 'SPEAKER_02', 'SPEAKER_02', 'SPEAKER_02', 'SPEAKER_02', 'SPEAKER_02', 'SPEAKER_02', 'SPEAKER_02', 'SPEAKER_02', 'SPEAKER_02', 'SPEAKER_02', 'SPEAKER_02', 'SPEAKER_02', 'SPEAKER_02', 'SPEAKER_02', 'SPEAKER_02', 'SPEAKER_02', 'SPEAKER_02', 'SPEAKER_02', 'SPEAKER_02', 'SPEAKER_02', 'SPEAKER_02', 'SPEAKER_02', 'SPEAKER_02', 'SPEAKER_02', 'SPEAKER_02', 'SPEAKER_02', 'SPEAKER_02', 'SPEAKER_02', 'SPEAKER_02', 'SPEAKER_02', 'SPEAKER_02', 'SPEAKER_02', 'SPEAKER_02', 'SPEAKER_02', 'SPEAKER_02', 'SPEAKER_02', 'SPEAKER_02', 'SPEAKER_02', 'SPEAKER_02', 'SPEAKER_02', 'SPEAKER_02', 'SPEAKER_02', 'SPEAKER_02', 'SPEAKER_02', 'SPEAKER_02', 'SPEAKER_02', 'SPEAKER_02', 'SPEAKER_02', 'SPEAKER_02', 'SPEAKER_02', 'SPEAKER_02', 'SPEAKER_02', 'SPEAKER_02', 'SPEAKER_02', 'SPEAKER_02', 'SPEAKER_02', 'SPEAKER_02', 'SPEAKER_02', 'SPEAKER_02', 'SPEAKER_02', 'SPEAKER_02', 'SPEAKER_02', 'SPEAKER_02', 'SPEAKER_02', 'SPEAKER_02', 'SPEAKER_02', 'SPEAKER_02', 'SPEAKER_02', 'SPEAKER_02', 'SPEAKER_02', 'SPEAKER_02', 'SPEAKER_02', 'SPEAKER_02', 'SPEAKER_02', 'SPEAKER_02', 'SPEAKER_02', 'SPEAKER_02', 'SPEAKER_02', 'SPEAKER_02', 'SPEAKER_02', 'SPEAKER_02', 'SPEAKER_02', 'SPEAKER_02', 'SPEAKER_02', 'SPEAKER_02', 'SPEAKER_02', 'SPEAKER_02', 'SPEAKER_02', 'SPEAKER_02', 'SPEAKER_02', 'SPEAKER_02', 'SPEAKER_02', 'SPEAKER_02', 'SPEAKER_02', 'SPEAKER_02', 'SPEAKER_02', 'SPEAKER_02', 'SPEAKER_02', 'SPEAKER_02', 'SPEAKER_02', 'SPEAKER_02', 'SPEAKER_02', 'SPEAKER_02', 'SPEAKER_02', 'SPEAKER_02', 'SPEAKER_02', 'SPEAKER_02', 'SPEAKER_02', 'SPEAKER_02', 'SPEAKER_02', 'SPEAKER_02', 'SPEAKER_02', 'SPEAKER_02', 'SPEAKER_02', 'SPEAKER_02', 'SPEAKER_02', 'SPEAKER_02', 'SPEAKER_02', 'SPEAKER_02', 'SPEAKER_02', 'SPEAKER_02', 'SPEAKER_02', 'SPEAKER_02', 'SPEAKER_02', 'SPEAKER_02', 'SPEAKER_02', 'SPEAKER_02', 'SPEAKER_02', 'SPEAKER_02', 'SPEAKER_02', 'SPEAKER_02', 'SPEAKER_02', 'SPEAKER_02', 'SPEAKER_02', 'SPEAKER_02', 'SPEAKER_02', 'SPEAKER_02', 'SPEAKER_02', 'SPEAKER_02', 'SPEAKER_02', 'SPEAKER_02', 'SPEAKER_02', 'SPEAKER_02', 'SPEAKER_02', 'SPEAKER_02', 'SPEAKER_02', 'SPEAKER_02', 'SPEAKER_02', 'SPEAKER_02', 'SPEAKER_02', 'SPEAKER_02', 'SPEAKER_02', 'SPEAKER_02', 'SPEAKER_02', 'SPEAKER_02', 'SPEAKER_02', 'SPEAKER_02', 'SPEAKER_02', 'SPEAKER_02', 'SPEAKER_02', 'SPEAKER_02', 'SPEAKER_02', 'SPEAKER_02', 'SPEAKER_02', 'SPEAKER_02', 'SPEAKER_02', 'SPEAKER_02', 'SPEAKER_02', 'SPEAKER_02', 'SPEAKER_02', 'SPEAKER_02', 'SPEAKER_02', 'SPEAKER_02', 'SPEAKER_02', 'SPEAKER_02', 'SPEAKER_02', 'SPEAKER_02', 'SPEAKER_02', 'SPEAKER_02', 'SPEAKER_02', 'SPEAKER_02', 'SPEAKER_02', 'SPEAKER_02', 'SPEAKER_02', 'SPEAKER_02', 'SPEAKER_02', 'SPEAKER_02', 'SPEAKER_02', 'SPEAKER_02', 'SPEAKER_02', 'SPEAKER_02', 'SPEAKER_02', 'SPEAKER_02', 'SPEAKER_02', 'SPEAKER_02', 'SPEAKER_02', 'SPEAKER_02', 'SPEAKER_02', 'SPEAKER_02', 'SPEAKER_02', 'SPEAKER_02', 'SPEAKER_02', 'SPEAKER_02', 'SPEAKER_02', 'SPEAKER_02', 'SPEAKER_02', 'SPEAKER_02', 'SPEAKER_02', 'SPEAKER_02', 'SPEAKER_02', 'SPEAKER_03', 'SPEAKER_04', 'SPEAKER_04', 'SPEAKER_00', 'SPEAKER_03', 'SPEAKER_03', 'SPEAKER_03', 'SPEAKER_04', 'SPEAKER_04', 'SPEAKER_03', 'SPEAKER_03', 'SPEAKER_03', 'SPEAKER_03', 'SPEAKER_03', 'SPEAKER_03', 'SPEAKER_00', 'SPEAKER_01', 'SPEAKER_03', 'SPEAKER_03', 'SPEAKER_03', 'SPEAKER_03', 'SPEAKER_02', 'SPEAKER_02', 'SPEAKER_04', 'SPEAKER_02', 'SPEAKER_02', 'SPEAKER_04', 'SPEAKER_03', 'SPEAKER_03', 'SPEAKER_01', 'SPEAKER_03', 'SPEAKER_03', 'SPEAKER_03', 'SPEAKER_01', 'SPEAKER_03', 'SPEAKER_03', 'SPEAKER_03', 'SPEAKER_03', 'SPEAKER_03', 'SPEAKER_03', 'SPEAKER_03', 'SPEAKER_02', 'SPEAKER_02', 'SPEAKER_02', 'SPEAKER_02', 'SPEAKER_02', 'SPEAKER_02', 'SPEAKER_02', 'SPEAKER_02', 'SPEAKER_02', 'SPEAKER_02', 'SPEAKER_02', 'SPEAKER_02', 'SPEAKER_02', 'SPEAKER_02', 'SPEAKER_02', 'SPEAKER_02', 'SPEAKER_02', 'SPEAKER_02', 'SPEAKER_02', 'SPEAKER_02', 'SPEAKER_02', 'SPEAKER_02', 'SPEAKER_02', 'SPEAKER_02', 'SPEAKER_02', 'SPEAKER_02', 'SPEAKER_02', 'SPEAKER_02', 'SPEAKER_02', 'SPEAKER_02', 'SPEAKER_02', 'SPEAKER_02', 'SPEAKER_02', 'SPEAKER_02', 'SPEAKER_02', 'SPEAKER_02', 'SPEAKER_02', 'SPEAKER_02', 'SPEAKER_02', 'SPEAKER_02', 'SPEAKER_02', 'SPEAKER_02', 'SPEAKER_02', 'SPEAKER_02', 'SPEAKER_02', 'SPEAKER_02', 'SPEAKER_02', 'SPEAKER_02', 'SPEAKER_02', 'SPEAKER_02', 'SPEAKER_02', 'SPEAKER_02', 'SPEAKER_02', 'SPEAKER_02', 'SPEAKER_02', 'SPEAKER_02', 'SPEAKER_02', 'SPEAKER_02', 'SPEAKER_02', 'SPEAKER_02', 'SPEAKER_02', 'SPEAKER_02', 'SPEAKER_02', 'SPEAKER_02', 'SPEAKER_02', 'SPEAKER_02', 'SPEAKER_02', 'SPEAKER_02', 'SPEAKER_02', 'SPEAKER_02', 'SPEAKER_02', 'SPEAKER_02', 'SPEAKER_02', 'SPEAKER_02', 'SPEAKER_02', 'SPEAKER_02', 'SPEAKER_02', 'SPEAKER_02', 'SPEAKER_02', 'SPEAKER_02', 'SPEAKER_02', 'SPEAKER_02', 'SPEAKER_02', 'SPEAKER_02', 'SPEAKER_02', 'SPEAKER_02', 'SPEAKER_02', 'SPEAKER_02', 'SPEAKER_02', 'SPEAKER_02', 'SPEAKER_02', 'SPEAKER_02', 'SPEAKER_02', 'SPEAKER_02', 'SPEAKER_02', 'SPEAKER_02', 'SPEAKER_02', 'SPEAKER_02', 'SPEAKER_02', 'SPEAKER_02', 'SPEAKER_02', 'SPEAKER_02', 'SPEAKER_02', 'SPEAKER_02', 'SPEAKER_02', 'SPEAKER_02', 'SPEAKER_00', 'SPEAKER_02', 'SPEAKER_02', 'SPEAKER_02', 'SPEAKER_02', 'SPEAKER_02', 'SPEAKER_02', 'SPEAKER_03', 'SPEAKER_02', 'SPEAKER_02', 'SPEAKER_02', 'SPEAKER_02', 'SPEAKER_02', 'SPEAKER_02', 'SPEAKER_02', 'SPEAKER_02', 'SPEAKER_02', 'SPEAKER_02', 'SPEAKER_02', 'SPEAKER_02', 'SPEAKER_02', 'SPEAKER_02', 'SPEAKER_02', 'SPEAKER_02', 'SPEAKER_02', 'SPEAKER_02', 'SPEAKER_02', 'SPEAKER_02', 'SPEAKER_02', 'SPEAKER_02', 'SPEAKER_02', 'SPEAKER_02', 'SPEAKER_02', 'SPEAKER_02', 'SPEAKER_02', 'SPEAKER_02', 'SPEAKER_02', 'SPEAKER_02', 'SPEAKER_02', 'SPEAKER_02', 'SPEAKER_02', 'SPEAKER_02', 'SPEAKER_02', 'SPEAKER_02', 'SPEAKER_02', 'SPEAKER_02', 'SPEAKER_02', 'SPEAKER_02', 'SPEAKER_02', 'SPEAKER_02', 'SPEAKER_02', 'SPEAKER_02', 'SPEAKER_02', 'SPEAKER_02', 'SPEAKER_02', 'SPEAKER_02', 'SPEAKER_02', 'SPEAKER_02', 'SPEAKER_02', 'SPEAKER_02', 'SPEAKER_02', 'SPEAKER_02', 'SPEAKER_02', 'SPEAKER_02', 'SPEAKER_02', 'SPEAKER_02', 'SPEAKER_02', 'SPEAKER_04', 'SPEAKER_04', 'SPEAKER_02', 'SPEAKER_04', 'SPEAKER_04', 'SPEAKER_04', 'SPEAKER_04', 'SPEAKER_04', 'SPEAKER_04', 'SPEAKER_04', 'SPEAKER_04', 'SPEAKER_04', 'SPEAKER_04', 'SPEAKER_04', 'SPEAKER_04', 'SPEAKER_04', 'SPEAKER_04', 'SPEAKER_04', 'SPEAKER_04', 'SPEAKER_04', 'SPEAKER_02', 'SPEAKER_02', 'SPEAKER_02', 'SPEAKER_02', 'SPEAKER_02', 'SPEAKER_02', 'SPEAKER_02', 'SPEAKER_02', 'SPEAKER_02', 'SPEAKER_02', 'SPEAKER_02', 'SPEAKER_02', 'SPEAKER_02', 'SPEAKER_02', 'SPEAKER_04', 'SPEAKER_04', 'SPEAKER_02', 'SPEAKER_02', 'SPEAKER_02', 'SPEAKER_02', 'SPEAKER_02', 'SPEAKER_02', 'SPEAKER_02', 'SPEAKER_02', 'SPEAKER_02', 'SPEAKER_02', 'SPEAKER_02', 'SPEAKER_02', 'SPEAKER_02', 'SPEAKER_02', 'SPEAKER_02', 'SPEAKER_02', 'SPEAKER_02', 'SPEAKER_02', 'SPEAKER_02', 'SPEAKER_02', 'SPEAKER_02', 'SPEAKER_02', 'SPEAKER_02', 'SPEAKER_02', 'SPEAKER_02', 'SPEAKER_02', 'SPEAKER_02', 'SPEAKER_02', 'SPEAKER_04', 'SPEAKER_02', 'SPEAKER_02', 'SPEAKER_02', 'SPEAKER_02', 'SPEAKER_02', 'SPEAKER_02', 'SPEAKER_02', 'SPEAKER_02', 'SPEAKER_02', 'SPEAKER_02', 'SPEAKER_02', 'SPEAKER_02', 'SPEAKER_02', 'SPEAKER_02', 'SPEAKER_02', 'SPEAKER_02', 'SPEAKER_02', 'SPEAKER_02', 'SPEAKER_02', 'SPEAKER_02', 'SPEAKER_02', 'SPEAKER_02', 'SPEAKER_02', 'SPEAKER_02', 'SPEAKER_02', 'SPEAKER_02', 'SPEAKER_02', 'SPEAKER_02', 'SPEAKER_02', 'SPEAKER_02', 'SPEAKER_02', 'SPEAKER_02', 'SPEAKER_02', 'SPEAKER_02', 'SPEAKER_02', 'SPEAKER_02', 'SPEAKER_02', 'SPEAKER_02', 'SPEAKER_02', 'SPEAKER_02', 'SPEAKER_02', 'SPEAKER_02', 'SPEAKER_02', 'SPEAKER_02', 'SPEAKER_02', 'SPEAKER_02', 'SPEAKER_02', 'SPEAKER_02', 'SPEAKER_02', 'SPEAKER_02', 'SPEAKER_02', 'SPEAKER_02', 'SPEAKER_02', 'SPEAKER_02', 'SPEAKER_02', 'SPEAKER_02', 'SPEAKER_02', 'SPEAKER_02', 'SPEAKER_02', 'SPEAKER_02', 'SPEAKER_02', 'SPEAKER_02', 'SPEAKER_02', 'SPEAKER_02', 'SPEAKER_02', 'SPEAKER_02', 'SPEAKER_02', 'SPEAKER_02', 'SPEAKER_02', 'SPEAKER_02', 'SPEAKER_02', 'SPEAKER_02', 'SPEAKER_02', 'SPEAKER_02', 'SPEAKER_02', 'SPEAKER_02', 'SPEAKER_02', 'SPEAKER_02', 'SPEAKER_02', 'SPEAKER_02', 'SPEAKER_02', 'SPEAKER_02', 'SPEAKER_02', 'SPEAKER_02', 'SPEAKER_02', 'SPEAKER_02', 'SPEAKER_02', 'SPEAKER_02', 'SPEAKER_02', 'SPEAKER_02', 'SPEAKER_02', 'SPEAKER_02', 'SPEAKER_02', 'SPEAKER_02', 'SPEAKER_02', 'SPEAKER_02', 'SPEAKER_02', 'SPEAKER_02', 'SPEAKER_02', 'SPEAKER_02', 'SPEAKER_02', 'SPEAKER_02', 'SPEAKER_02', 'SPEAKER_02', 'SPEAKER_02', 'SPEAKER_02', 'SPEAKER_02', 'SPEAKER_02', 'SPEAKER_02', 'SPEAKER_02', 'SPEAKER_02', 'SPEAKER_02', 'SPEAKER_02', 'SPEAKER_02', 'SPEAKER_02', 'SPEAKER_02', 'SPEAKER_02', 'SPEAKER_02', 'SPEAKER_02', 'SPEAKER_02', 'SPEAKER_02', 'SPEAKER_02', 'SPEAKER_02', 'SPEAKER_02', 'SPEAKER_02', 'SPEAKER_02', 'SPEAKER_02', 'SPEAKER_02', 'SPEAKER_02', 'SPEAKER_02', 'SPEAKER_02', 'SPEAKER_02', 'SPEAKER_02', 'SPEAKER_02', 'SPEAKER_02', 'SPEAKER_02', 'SPEAKER_02', 'SPEAKER_02', 'SPEAKER_02', 'SPEAKER_02', 'SPEAKER_02', 'SPEAKER_02', 'SPEAKER_02', 'SPEAKER_02', 'SPEAKER_02', 'SPEAKER_02', 'SPEAKER_02', 'SPEAKER_02', 'SPEAKER_02', 'SPEAKER_02', 'SPEAKER_02', 'SPEAKER_02', 'SPEAKER_02', 'SPEAKER_02']\n"
          ]
        }
      ]
    },
    {
      "cell_type": "code",
      "source": [
        "import numpy as np\n",
        "np.unique(labels)"
      ],
      "metadata": {
        "colab": {
          "base_uri": "https://localhost:8080/"
        },
        "id": "QD7aNsDE-Lce",
        "outputId": "5d0ff845-2f74-4b69-dc9d-fc1c85473b37"
      },
      "execution_count": null,
      "outputs": [
        {
          "output_type": "execute_result",
          "data": {
            "text/plain": [
              "array(['SPEAKER_00', 'SPEAKER_01', 'SPEAKER_02', 'SPEAKER_03',\n",
              "       'SPEAKER_04'], dtype='<U10')"
            ]
          },
          "metadata": {},
          "execution_count": 16
        }
      ]
    },
    {
      "cell_type": "code",
      "source": [
        "def processing_homogenous_labels(starts, labels):\n",
        "  starts1 = [starts[0]]\n",
        "  labels1 = [labels[0]]\n",
        "  for i in range(1, len(labels)):\n",
        "    if labels[i] == labels1[-1]:\n",
        "      pass\n",
        "    else:\n",
        "      starts1.append(starts[i])\n",
        "      labels1.append(labels[i])\n",
        "    return starts1, labels1"
      ],
      "metadata": {
        "id": "eJBSD5u1AWm1"
      },
      "execution_count": null,
      "outputs": []
    },
    {
      "cell_type": "code",
      "source": [
        "print(starts1)\n",
        "print(labels1)"
      ],
      "metadata": {
        "colab": {
          "base_uri": "https://localhost:8080/"
        },
        "id": "STGB464gBD98",
        "outputId": "683c3ee3-d980-4032-98f4-02c3f89fb25e"
      },
      "execution_count": null,
      "outputs": [
        {
          "output_type": "stream",
          "name": "stdout",
          "text": [
            "[0.2578125000000001, 1212.5071875000003, 1243.1015625, 1258.0190625, 1291.1109375, 1300.0546875, 1335.2390625000003, 1348.2496875000002, 1351.2028125000002, 1397.1703125000004, 1405.7934375, 1410.1640625, 1415.9690625000003, 1420.8290625000004, 1453.8196875000003, 1461.7340625000002, 1534.4653125000004, 1544.8434375000002, 1570.3415625000002, 1645.1146875000004, 2110.8309375, 2113.7671874999996, 2137.5271875, 2139.7040625, 2350.6078125000004, 2360.5471875000003, 2361.3065625, 2573.1046875, 2614.0940625000003, 2623.7296875, 2735.9315625, 2745.2803125]\n",
            "['SPEAKER_02', 'SPEAKER_03', 'SPEAKER_04', 'SPEAKER_00', 'SPEAKER_03', 'SPEAKER_04', 'SPEAKER_03', 'SPEAKER_00', 'SPEAKER_01', 'SPEAKER_03', 'SPEAKER_02', 'SPEAKER_04', 'SPEAKER_02', 'SPEAKER_04', 'SPEAKER_03', 'SPEAKER_01', 'SPEAKER_03', 'SPEAKER_01', 'SPEAKER_03', 'SPEAKER_02', 'SPEAKER_00', 'SPEAKER_02', 'SPEAKER_03', 'SPEAKER_02', 'SPEAKER_04', 'SPEAKER_02', 'SPEAKER_04', 'SPEAKER_02', 'SPEAKER_04', 'SPEAKER_02', 'SPEAKER_04', 'SPEAKER_02']\n"
          ]
        }
      ]
    },
    {
      "cell_type": "code",
      "source": [
        "os.getcwd()"
      ],
      "metadata": {
        "colab": {
          "base_uri": "https://localhost:8080/",
          "height": 35
        },
        "id": "mWgRe_aWBFSZ",
        "outputId": "656cc7f4-d476-487a-ecbe-148a13a7bc6f"
      },
      "execution_count": null,
      "outputs": [
        {
          "output_type": "execute_result",
          "data": {
            "text/plain": [
              "'/content/drive/MyDrive/STECH/Speech-To-Text'"
            ],
            "application/vnd.google.colaboratory.intrinsic+json": {
              "type": "string"
            }
          },
          "metadata": {},
          "execution_count": 19
        }
      ]
    },
    {
      "cell_type": "code",
      "source": [
        "%cd /content/drive/MyDrive/STECH/Speech-To-Text/Pyannot"
      ],
      "metadata": {
        "colab": {
          "base_uri": "https://localhost:8080/"
        },
        "id": "HgT8nqvXBMta",
        "outputId": "fcb11c0b-6cc5-4c43-c9c1-5b5f0d038596"
      },
      "execution_count": null,
      "outputs": [
        {
          "output_type": "stream",
          "name": "stdout",
          "text": [
            "/content/drive/MyDrive/STECH/Speech-To-Text/Pyannot\n"
          ]
        }
      ]
    },
    {
      "cell_type": "code",
      "source": [
        "os.makedirs('Result2', exist_ok=True)"
      ],
      "metadata": {
        "id": "TEzzqlt6BcfN"
      },
      "execution_count": null,
      "outputs": []
    },
    {
      "cell_type": "code",
      "source": [
        "def Trim_Audio(Audio,stt,t_start,t_end):\n",
        "  newAudio = AudioSegment.from_file(Audio)\n",
        "  if t_end == 'End':\n",
        "    newAudio = newAudio[t_start*1000:]\n",
        "  else:\n",
        "    newAudio = newAudio[t_start*1000:t_end*1000]\n",
        "  Audio_name = 'Result2'\n",
        "  newAudio.export(os.path.join(Audio_name, '{}.wav'.format(stt)), format='wav')"
      ],
      "metadata": {
        "id": "1Be2CtefBena"
      },
      "execution_count": null,
      "outputs": []
    },
    {
      "cell_type": "code",
      "source": [
        "path = '/content/drive/MyDrive/STECH/Speech-To-Text/Họp báo Chính phủ thường kỳ tháng 4_2021 _ VTC Now.wav'"
      ],
      "metadata": {
        "id": "b7y0zwdvIvRY"
      },
      "execution_count": null,
      "outputs": []
    },
    {
      "cell_type": "code",
      "source": [
        "for i in range(0, len(starts1)):\n",
        "  try:\n",
        "    Trim_Audio(path, i, starts1[i], starts1[i+1])\n",
        "  except:\n",
        "    Trim_Audio(path, i, starts1[i], 'End')"
      ],
      "metadata": {
        "id": "fxN3ZeAAIfeA"
      },
      "execution_count": null,
      "outputs": []
    }
  ]
}