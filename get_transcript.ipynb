{
 "cells": [
  {
   "cell_type": "code",
   "execution_count": 9,
   "id": "e4641ea1",
   "metadata": {},
   "outputs": [],
   "source": [
    "import os\n",
    "from google.cloud import speech\n",
    "import io\n",
    "os.environ['GOOGLE_APPLICATION_CREDENTIALS'] = 'client_service_key.json'\n",
    "client = speech.SpeechClient()"
   ]
  },
  {
   "cell_type": "code",
   "execution_count": 2,
   "id": "5889b165",
   "metadata": {},
   "outputs": [],
   "source": [
    "os.getcwd()\n",
    "os.chdir('C:\\\\Users\\\\quang\\\\Data Analysis\\\\STECH\\\\Speech-To-Text\\\\Speech-Recognition\\\\Multiple_speaker_detection\\\\Result')"
   ]
  },
  {
   "cell_type": "code",
   "execution_count": 3,
   "id": "7be660f8",
   "metadata": {},
   "outputs": [],
   "source": [
    "path = 'C:\\\\Users\\\\quang\\\\Data Analysis\\\\STECH\\\\Speech-To-Text\\\\Speech-Recognition\\\\Multiple_speaker_detection\\\\Result'"
   ]
  },
  {
   "cell_type": "code",
   "execution_count": 4,
   "id": "efc7939d",
   "metadata": {},
   "outputs": [
    {
     "data": {
      "text/plain": [
       "['0.wav',\n",
       " '1.wav',\n",
       " '2.wav',\n",
       " '3.wav',\n",
       " '4.wav',\n",
       " 'client_service_key.json',\n",
       " 'result.txt']"
      ]
     },
     "execution_count": 4,
     "metadata": {},
     "output_type": "execute_result"
    }
   ],
   "source": [
    "for root, dirs, files in os.walk(path, topdown=False):\n",
    "    audio_list_file = files\n",
    "audio_list_file"
   ]
  },
  {
   "cell_type": "code",
   "execution_count": 5,
   "id": "d90c9d98",
   "metadata": {},
   "outputs": [],
   "source": [
    "Result_txt = 'C:\\\\Users\\\\quang\\\\Data Analysis\\\\STECH\\\\Speech-To-Text\\\\Speech-Recognition\\\\Multiple_speaker_detection\\\\Result\\\\result.txt'"
   ]
  },
  {
   "cell_type": "code",
   "execution_count": 12,
   "id": "158f9162",
   "metadata": {},
   "outputs": [
    {
     "data": {
      "text/plain": [
       "'1.wav'"
      ]
     },
     "execution_count": 12,
     "metadata": {},
     "output_type": "execute_result"
    }
   ],
   "source": [
    "audio_list_file = audio_list_file[0:5]\n",
    "audio_list_file[1]"
   ]
  },
  {
   "cell_type": "code",
   "execution_count": 14,
   "id": "3978a9da",
   "metadata": {},
   "outputs": [],
   "source": [
    "audio_list_file = audio_list_file[0:5]\n",
    "for i in range(len(audio_list_file)):\n",
    "    media_file_name_wav = audio_list_file[i]\n",
    "    with io.open(media_file_name_wav, 'rb') as f1:\n",
    "        byte_data_wav = f1.read()\n",
    "    audio_wav = speech.RecognitionAudio(content = byte_data_wav)\n",
    "    \n",
    "    config_wav = speech.RecognitionConfig(\n",
    "    sample_rate_hertz = 48000,\n",
    "    enable_automatic_punctuation=True,\n",
    "    language_code = 'vi-VN',\n",
    "    audio_channel_count=2)\n",
    "    \n",
    "    response = client.recognize(config = config_wav, audio=audio_wav)\n",
    "    text = []\n",
    "    for i, result in enumerate(response.results):\n",
    "        alternative = result.alternatives[0]\n",
    "        text.append(alternative.transcript + '\\n')\n",
    "    with open(Result_txt, 'w+',encoding='utf-8') as f:\n",
    "        f.writelines(text)"
   ]
  },
  {
   "cell_type": "code",
   "execution_count": null,
   "id": "63b360e5",
   "metadata": {},
   "outputs": [],
   "source": []
  }
 ],
 "metadata": {
  "kernelspec": {
   "display_name": "Python 3",
   "language": "python",
   "name": "python3"
  },
  "language_info": {
   "codemirror_mode": {
    "name": "ipython",
    "version": 3
   },
   "file_extension": ".py",
   "mimetype": "text/x-python",
   "name": "python",
   "nbconvert_exporter": "python",
   "pygments_lexer": "ipython3",
   "version": "3.8.8"
  }
 },
 "nbformat": 4,
 "nbformat_minor": 5
}
