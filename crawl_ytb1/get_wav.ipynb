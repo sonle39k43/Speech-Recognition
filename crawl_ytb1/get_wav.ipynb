{
 "cells": [
  {
   "cell_type": "code",
   "execution_count": 1,
   "id": "bb72556d",
   "metadata": {},
   "outputs": [],
   "source": [
    "import youtube_dl\n",
    "import pandas as pd\n",
    "path = 'C:\\\\Users\\\\quang\\\\Desktop\\\\Crawl_ytb\\\\'"
   ]
  },
  {
   "cell_type": "code",
   "execution_count": null,
   "id": "80364e55",
   "metadata": {},
   "outputs": [],
   "source": [
    "print('hello')"
   ]
  },
  {
   "cell_type": "code",
   "execution_count": 5,
   "id": "0e4095b2",
   "metadata": {},
   "outputs": [],
   "source": [
    "def download_ytvid_as_wav(id,index,outdir):\n",
    "    video_url = \"https://www.youtube.com/watch?v=%s\"%id\n",
    "    video_info = youtube_dl.YoutubeDL().extract_info(url = video_url,download=False)\n",
    "    name=\"text_%s\"%str(index)\n",
    "    filename = f\"{name}.wav\"\n",
    "    options={\n",
    "        'format':'bestaudio/best',\n",
    "        'keepvideo':False,\n",
    "        'outtmpl':outdir+filename,\n",
    "    }\n",
    "    with youtube_dl.YoutubeDL(options) as ydl:\n",
    "        ydl.download([video_info['webpage_url']])\n",
    "    print(\"Download complete... {}\".format(filename))"
   ]
  },
  {
   "cell_type": "code",
   "execution_count": null,
   "id": "012dd3d6",
   "metadata": {},
   "outputs": [
    {
     "name": "stdout",
     "output_type": "stream",
     "text": [
      "[youtube] JxBnLmCOEJ8: Downloading webpage\n",
      "[youtube] JxBnLmCOEJ8: Downloading webpage\n",
      "[download] audio\\text_0.wav has already been downloaded\n",
      "[download] 100% of 4.83MiB\n",
      "Download complete... text_0.wav\n",
      ".....................sucessful ..................\n",
      "[youtube] m-7YVLOgvag: Downloading webpage\n",
      "[youtube] m-7YVLOgvag: Downloading webpage\n",
      "[download] audio\\text_1.wav has already been downloaded\n",
      "[download] 100% of 4.50MiB\n",
      "Download complete... text_1.wav\n",
      ".....................sucessful ..................\n",
      "[youtube] UVbv-PJXm14: Downloading webpage\n",
      "[youtube] UVbv-PJXm14: Downloading webpage\n",
      "[download] audio\\text_2.wav has already been downloaded\n",
      "[download] 100% of 6.48MiB\n",
      "Download complete... text_2.wav\n",
      ".....................sucessful ..................\n",
      "[youtube] 1rgGwx7Qtjc: Downloading webpage\n",
      "[youtube] 1rgGwx7Qtjc: Downloading webpage\n",
      "[download] audio\\text_3.wav has already been downloaded\n",
      "[download] 100% of 77.81MiB\n"
     ]
    },
    {
     "name": "stderr",
     "output_type": "stream",
     "text": [
      "WARNING: 1rgGwx7Qtjc: writing DASH m4a. Only some players support this container. Install ffmpeg or avconv to fix this automatically.\n"
     ]
    },
    {
     "name": "stdout",
     "output_type": "stream",
     "text": [
      "Download complete... text_3.wav\n",
      ".....................sucessful ..................\n",
      "[youtube] AsDk5ZImCBA: Downloading webpage\n",
      "[youtube] AsDk5ZImCBA: Downloading webpage\n",
      "[youtube] AsDk5ZImCBA: Downloading player d1466abd\n",
      "[download] audio\\text_4.wav has already been downloaded\n",
      "[download] 100% of 1.52MiB\n"
     ]
    },
    {
     "name": "stderr",
     "output_type": "stream",
     "text": [
      "WARNING: AsDk5ZImCBA: writing DASH m4a. Only some players support this container. Install ffmpeg or avconv to fix this automatically.\n"
     ]
    },
    {
     "name": "stdout",
     "output_type": "stream",
     "text": [
      "Download complete... text_4.wav\n",
      ".....................sucessful ..................\n",
      "[youtube] Ws-QlpSltr8: Downloading webpage\n",
      "[youtube] Ws-QlpSltr8: Downloading webpage\n",
      "[download] audio\\text_5.wav has already been downloaded\n",
      "[download] 100% of 4.17MiB\n",
      "Download complete... text_5.wav\n",
      ".....................sucessful ..................\n",
      "[youtube] vTJdVE_gjI0: Downloading webpage\n",
      "[youtube] vTJdVE_gjI0: Downloading webpage\n",
      "[download] audio\\text_6.wav has already been downloaded\n",
      "[download] 100% of 3.35MiB\n",
      "Download complete... text_6.wav\n",
      ".....................sucessful ..................\n",
      "[youtube] BHCU7CR_Unk: Downloading webpage\n",
      "[youtube] BHCU7CR_Unk: Downloading webpage\n",
      "[download] audio\\text_7.wav has already been downloaded\n",
      "[download] 100% of 4.17MiB\n",
      "Download complete... text_7.wav\n",
      ".....................sucessful ..................\n",
      "[youtube] oigiXW6XyCQ: Downloading webpage\n",
      "[youtube] oigiXW6XyCQ: Downloading webpage\n",
      "[download] audio\\text_8.wav has already been downloaded\n",
      "[download] 100% of 4.45MiB\n",
      "Download complete... text_8.wav\n",
      ".....................sucessful ..................\n",
      "[youtube] KKc_RMln5UY: Downloading webpage\n",
      "[youtube] KKc_RMln5UY: Downloading webpage\n",
      "[download] audio\\text_9.wav has already been downloaded\n",
      "[download] 100% of 5.00MiB\n",
      "Download complete... text_9.wav\n",
      ".....................sucessful ..................\n",
      "[youtube] 3an192aq0wQ: Downloading webpage\n",
      "[youtube] 3an192aq0wQ: Downloading webpage\n",
      "[download] audio\\text_10.wav has already been downloaded\n",
      "[download] 100% of 3.73MiB\n",
      "Download complete... text_10.wav\n",
      ".....................sucessful ..................\n",
      "[youtube] 59IKR_YVeps: Downloading webpage\n",
      "[youtube] 59IKR_YVeps: Downloading webpage\n",
      "[download] audio\\text_11.wav has already been downloaded\n",
      "[download] 100% of 9.25MiB\n",
      "Download complete... text_11.wav\n",
      ".....................sucessful ..................\n",
      "[youtube] LSMDNL4n0kM: Downloading webpage\n",
      "[youtube] LSMDNL4n0kM: Downloading webpage\n",
      "[download] Destination: audio\\text_12.wav\n",
      "[download] 100% of 3.38MiB in 01:11                 \n",
      "Download complete... text_12.wav\n",
      ".....................sucessful ..................\n",
      "[youtube] ddaEtFOsFeM: Downloading webpage\n",
      "[youtube] ddaEtFOsFeM: Downloading webpage\n",
      "[download] Destination: audio\\text_13.wav\n",
      "[download] 100% of 4.38MiB in 00:57                  \n",
      "Download complete... text_13.wav\n",
      ".....................sucessful ..................\n",
      "[youtube] BFdphCCw_o4: Downloading webpage\n",
      "[youtube] BFdphCCw_o4: Downloading webpage\n",
      "[download] Destination: audio\\text_14.wav\n",
      "[download] 100% of 380.35KiB in 00:06                 \n",
      "Download complete... text_14.wav\n",
      ".....................sucessful ..................\n",
      "[youtube] L0NZW6pgSLc: Downloading webpage\n",
      "[youtube] L0NZW6pgSLc: Downloading webpage\n",
      "[download] Destination: audio\\text_15.wav\n",
      "[download] 100% of 4.08MiB in 01:01                  \n",
      "Download complete... text_15.wav\n",
      ".....................sucessful ..................\n",
      "[youtube] UA-_--OS6i0: Downloading webpage\n",
      "[youtube] UA-_--OS6i0: Downloading webpage\n",
      "[download] Destination: audio\\text_16.wav\n",
      "[download] 100% of 3.64MiB in 01:16                 \n",
      "Download complete... text_16.wav\n",
      ".....................sucessful ..................\n",
      "[youtube] KdrbBJNFwGw: Downloading webpage\n",
      "[youtube] KdrbBJNFwGw: Downloading webpage\n",
      "[download] Destination: audio\\text_17.wav\n",
      "[download] 100% of 3.39MiB in 00:43                  \n",
      "Download complete... text_17.wav\n",
      ".....................sucessful ..................\n",
      "[youtube] 0Gtg6MqbROg: Downloading webpage\n",
      "[youtube] 0Gtg6MqbROg: Downloading webpage\n",
      "[download] Destination: audio\\text_18.wav\n",
      "[download] 100% of 2.27MiB in 00:48                 \n"
     ]
    },
    {
     "name": "stderr",
     "output_type": "stream",
     "text": [
      "WARNING: 0Gtg6MqbROg: writing DASH m4a. Only some players support this container. Install ffmpeg or avconv to fix this automatically.\n"
     ]
    },
    {
     "name": "stdout",
     "output_type": "stream",
     "text": [
      "Download complete... text_18.wav\n",
      ".....................sucessful ..................\n",
      "[youtube] fjtjs8ABkmw: Downloading webpage\n",
      "[youtube] fjtjs8ABkmw: Downloading webpage\n",
      "[download] Destination: audio\\text_19.wav\n",
      "[download] 100% of 3.99MiB in 00:50                  \n",
      "Download complete... text_19.wav\n",
      ".....................sucessful ..................\n",
      "[youtube] qv3-HaaxGUc: Downloading webpage\n",
      "[youtube] qv3-HaaxGUc: Downloading webpage\n",
      "[download] Destination: audio\\text_20.wav\n",
      "[download] 100% of 6.90MiB in 02:23                 \n",
      "Download complete... text_20.wav\n",
      ".....................sucessful ..................\n",
      "[youtube] EDnX5ShKfbI: Downloading webpage\n",
      "[youtube] EDnX5ShKfbI: Downloading webpage\n",
      "[download] Destination: audio\\text_21.wav\n",
      "[download] 100% of 4.41MiB in 00:56                  \n",
      "Download complete... text_21.wav\n",
      ".....................sucessful ..................\n",
      "[youtube] U1M5GDNNhCo: Downloading webpage\n",
      "[youtube] U1M5GDNNhCo: Downloading webpage\n",
      "[download] Destination: audio\\text_22.wav\n",
      "[download] 100% of 3.24MiB in 00:42                  \n"
     ]
    },
    {
     "name": "stderr",
     "output_type": "stream",
     "text": [
      "WARNING: U1M5GDNNhCo: writing DASH m4a. Only some players support this container. Install ffmpeg or avconv to fix this automatically.\n"
     ]
    },
    {
     "name": "stdout",
     "output_type": "stream",
     "text": [
      "Download complete... text_22.wav\n",
      ".....................sucessful ..................\n",
      "[youtube] iQBYrTjtBOE: Downloading webpage\n",
      "[youtube] iQBYrTjtBOE: Downloading webpage\n",
      "[download] Destination: audio\\text_23.wav\n",
      "[download] 100% of 3.51MiB in 01:14                 \n",
      "Download complete... text_23.wav\n",
      ".....................sucessful ..................\n",
      "[youtube] ayAxtbLwEJ8: Downloading webpage\n",
      "[youtube] ayAxtbLwEJ8: Downloading webpage\n",
      "[download] Destination: audio\\text_24.wav\n",
      "[download] 100% of 3.26MiB in 00:42                  \n",
      "Download complete... text_24.wav\n",
      ".....................sucessful ..................\n",
      "[youtube] qAQHz2zPFFQ: Downloading webpage\n",
      "[youtube] qAQHz2zPFFQ: Downloading webpage\n",
      "[download] Destination: audio\\text_25.wav\n",
      "[download] 100% of 3.61MiB in 01:15                 \n",
      "Download complete... text_25.wav\n",
      ".....................sucessful ..................\n",
      "[youtube] _MhCtjASXZA: Downloading webpage\n",
      "[youtube] _MhCtjASXZA: Downloading webpage\n",
      "[download] Destination: audio\\text_26.wav\n",
      "[download] 100% of 8.42MiB in 02:55                 \n",
      "Download complete... text_26.wav\n",
      ".....................sucessful ..................\n",
      "[youtube] iOoSBvWBeP8: Downloading webpage\n",
      "[youtube] iOoSBvWBeP8: Downloading webpage\n",
      "[download] Destination: audio\\text_27.wav\n",
      "[download] 100% of 5.69MiB in 01:12                  \n",
      "Download complete... text_27.wav\n",
      ".....................sucessful ..................\n",
      "[youtube] 0Jb_taIxvRY: Downloading webpage\n",
      "[youtube] 0Jb_taIxvRY: Downloading webpage\n",
      "[download] Destination: audio\\text_28.wav\n",
      "[download] 100% of 6.83MiB in 02:22                 \n"
     ]
    },
    {
     "name": "stderr",
     "output_type": "stream",
     "text": [
      "WARNING: 0Jb_taIxvRY: writing DASH m4a. Only some players support this container. Install ffmpeg or avconv to fix this automatically.\n"
     ]
    },
    {
     "name": "stdout",
     "output_type": "stream",
     "text": [
      "Download complete... text_28.wav\n",
      ".....................sucessful ..................\n",
      "[youtube] ql3QS4bzcWg: Downloading webpage\n",
      "[youtube] ql3QS4bzcWg: Downloading webpage\n",
      "[download] Destination: audio\\text_29.wav\n",
      "[download] 100% of 5.57MiB in 01:13                  \n",
      "Download complete... text_29.wav\n",
      ".....................sucessful ..................\n",
      "[youtube] XszJkmsrccI: Downloading webpage\n",
      "[youtube] XszJkmsrccI: Downloading webpage\n",
      "[download] Destination: audio\\text_30.wav\n",
      "[download] 100% of 2.55MiB in 00:54                 \n"
     ]
    },
    {
     "name": "stderr",
     "output_type": "stream",
     "text": [
      "WARNING: XszJkmsrccI: writing DASH m4a. Only some players support this container. Install ffmpeg or avconv to fix this automatically.\n"
     ]
    },
    {
     "name": "stdout",
     "output_type": "stream",
     "text": [
      "Download complete... text_30.wav\n",
      ".....................sucessful ..................\n",
      "[youtube] TRWNC1QFlbQ: Downloading webpage\n",
      "[youtube] TRWNC1QFlbQ: Downloading webpage\n",
      "[download] Destination: audio\\text_31.wav\n",
      "[download] 100% of 5.27MiB in 01:07                  \n"
     ]
    },
    {
     "name": "stderr",
     "output_type": "stream",
     "text": [
      "WARNING: TRWNC1QFlbQ: writing DASH m4a. Only some players support this container. Install ffmpeg or avconv to fix this automatically.\n"
     ]
    },
    {
     "name": "stdout",
     "output_type": "stream",
     "text": [
      "Download complete... text_31.wav\n",
      ".....................sucessful ..................\n",
      "[youtube] 0nn_fOjcYM0: Downloading webpage\n",
      "[youtube] 0nn_fOjcYM0: Downloading webpage\n",
      "[download] Destination: audio\\text_32.wav\n",
      "[download] 100% of 4.46MiB in 01:03                  \n"
     ]
    },
    {
     "name": "stderr",
     "output_type": "stream",
     "text": [
      "WARNING: 0nn_fOjcYM0: writing DASH m4a. Only some players support this container. Install ffmpeg or avconv to fix this automatically.\n"
     ]
    },
    {
     "name": "stdout",
     "output_type": "stream",
     "text": [
      "Download complete... text_32.wav\n",
      ".....................sucessful ..................\n",
      "[youtube] -MfGnmeWrBw: Downloading webpage\n",
      "[youtube] -MfGnmeWrBw: Downloading webpage\n",
      "[download] Destination: audio\\text_33.wav\n",
      "[download] 100% of 4.52MiB in 00:59                  \n",
      "Download complete... text_33.wav\n",
      ".....................sucessful ..................\n",
      "[youtube] CPkGTSW34_I: Downloading webpage\n",
      "[youtube] CPkGTSW34_I: Downloading webpage\n",
      "[download] Destination: audio\\text_34.wav\n",
      "[download] 100% of 3.21MiB in 00:48                  \n",
      "Download complete... text_34.wav\n",
      ".....................sucessful ..................\n",
      "[youtube] ArexdEMWRlA: Downloading webpage\n",
      "[youtube] ArexdEMWRlA: Downloading webpage\n",
      "[download] Destination: audio\\text_35.wav\n",
      "[download]   1.2% of 2.55MiB at 55.76KiB/s ETA 00:46"
     ]
    }
   ],
   "source": [
    "filter_csv=pd.read_csv(\"index.csv\",encoding = 'unicode_escape')\n",
    "list_vid=filter_csv['id']\n",
    "name_vid=filter_csv['Title']\n",
    "count = 0\n",
    "count2 = 0\n",
    "while count <= len(filter_csv) - 1:\n",
    "    download_ytvid_as_wav(list_vid[count],count2,'audio/')\n",
    "    count += 1\n",
    "    count2 += 1\n",
    "    print('.....................sucessful ..................')"
   ]
  }
 ],
 "metadata": {
  "kernelspec": {
   "display_name": "Python 3",
   "language": "python",
   "name": "python3"
  },
  "language_info": {
   "codemirror_mode": {
    "name": "ipython",
    "version": 3
   },
   "file_extension": ".py",
   "mimetype": "text/x-python",
   "name": "python",
   "nbconvert_exporter": "python",
   "pygments_lexer": "ipython3",
   "version": "3.8.8"
  }
 },
 "nbformat": 4,
 "nbformat_minor": 5
}
